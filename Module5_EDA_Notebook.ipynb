{
 "cells": [
  {
   "cell_type": "markdown",
   "id": "c0b21c0a",
   "metadata": {},
   "source": [
    "\n",
    "# 🧠 Module 5: Exploratory Data Analysis (EDA)\n",
    "This notebook covers all key concepts of EDA, including:\n",
    "- Data types and variables\n",
    "- Central tendency and dispersion\n",
    "- Five-point summary and skewness\n",
    "- Box plot\n",
    "- Covariance and correlation\n",
    "- Encoding\n",
    "- Scaling and normalization\n",
    "- Pre-processing\n",
    "- Handling missing values\n",
    "- Working with outliers\n",
    "\n",
    "We'll use the `pandas`, `numpy`, `matplotlib`, and `seaborn` libraries for this analysis.\n"
   ]
  },
  {
   "cell_type": "code",
   "execution_count": null,
   "id": "5c2f5c29",
   "metadata": {},
   "outputs": [],
   "source": [
    "\n",
    "import pandas as pd\n",
    "import numpy as np\n",
    "import seaborn as sns\n",
    "import matplotlib.pyplot as plt\n",
    "from sklearn.preprocessing import LabelEncoder, StandardScaler, MinMaxScaler\n",
    "\n",
    "# Load a sample dataset\n",
    "df = sns.load_dataset('titanic')\n",
    "df.head()\n"
   ]
  },
  {
   "cell_type": "markdown",
   "id": "efdd9ad2",
   "metadata": {},
   "source": [
    "## 📊 1. Data Types and Variables"
   ]
  },
  {
   "cell_type": "code",
   "execution_count": null,
   "id": "cadcc647",
   "metadata": {},
   "outputs": [],
   "source": [
    "\n",
    "# Display data types\n",
    "df.dtypes\n",
    "\n",
    "# Check variable types\n",
    "df.info()\n"
   ]
  },
  {
   "cell_type": "markdown",
   "id": "f9bac4a4",
   "metadata": {},
   "source": [
    "## 📈 2. Central Tendency and Dispersion"
   ]
  },
  {
   "cell_type": "code",
   "execution_count": null,
   "id": "67378db6",
   "metadata": {},
   "outputs": [],
   "source": [
    "\n",
    "# Central tendency\n",
    "print(\"Mean:\n",
    "\", df.mean(numeric_only=True))\n",
    "print(\"Median:\n",
    "\", df.median(numeric_only=True))\n",
    "print(\"Mode:\n",
    "\", df.mode().iloc[0])\n",
    "\n",
    "# Dispersion\n",
    "print(\"Standard Deviation:\n",
    "\", df.std(numeric_only=True))\n",
    "print(\"Variance:\n",
    "\", df.var(numeric_only=True))\n"
   ]
  },
  {
   "cell_type": "markdown",
   "id": "02764126",
   "metadata": {},
   "source": [
    "## 📐 3. Five-Point Summary and Skewness"
   ]
  },
  {
   "cell_type": "code",
   "execution_count": null,
   "id": "d6837e54",
   "metadata": {},
   "outputs": [],
   "source": [
    "\n",
    "# Five point summary\n",
    "df.describe()\n",
    "\n",
    "# Skewness\n",
    "df.skew(numeric_only=True)\n"
   ]
  },
  {
   "cell_type": "markdown",
   "id": "e52eba26",
   "metadata": {},
   "source": [
    "## 📦 4. Box Plot"
   ]
  },
  {
   "cell_type": "code",
   "execution_count": null,
   "id": "557b8057",
   "metadata": {},
   "outputs": [],
   "source": [
    "\n",
    "sns.boxplot(x=df[\"age\"])\n",
    "plt.title(\"Box Plot of Age\")\n",
    "plt.show()\n"
   ]
  },
  {
   "cell_type": "markdown",
   "id": "26b47b3f",
   "metadata": {},
   "source": [
    "## 🔗 5. Covariance and Correlation"
   ]
  },
  {
   "cell_type": "code",
   "execution_count": null,
   "id": "0048f997",
   "metadata": {},
   "outputs": [],
   "source": [
    "\n",
    "print(\"Covariance:\n",
    "\", df.cov(numeric_only=True))\n",
    "print(\"Correlation:\n",
    "\", df.corr(numeric_only=True))\n",
    "\n",
    "sns.heatmap(df.corr(numeric_only=True), annot=True, cmap='coolwarm')\n",
    "plt.title(\"Correlation Heatmap\")\n",
    "plt.show()\n"
   ]
  },
  {
   "cell_type": "markdown",
   "id": "039dd0b6",
   "metadata": {},
   "source": [
    "## 🔤 6. Encoding"
   ]
  },
  {
   "cell_type": "code",
   "execution_count": null,
   "id": "74e1e86a",
   "metadata": {},
   "outputs": [],
   "source": [
    "\n",
    "# Label Encoding 'sex' column\n",
    "le = LabelEncoder()\n",
    "df['sex_encoded'] = le.fit_transform(df['sex'])\n",
    "df[['sex', 'sex_encoded']].head()\n"
   ]
  },
  {
   "cell_type": "markdown",
   "id": "ebf6334d",
   "metadata": {},
   "source": [
    "## ⚖️ 7. Scaling and Normalization"
   ]
  },
  {
   "cell_type": "code",
   "execution_count": null,
   "id": "dd968c48",
   "metadata": {},
   "outputs": [],
   "source": [
    "\n",
    "scaler = StandardScaler()\n",
    "df['age_scaled'] = scaler.fit_transform(df[['age']])\n",
    "\n",
    "minmax = MinMaxScaler()\n",
    "df['fare_normalized'] = minmax.fit_transform(df[['fare']])\n",
    "\n",
    "df[['age', 'age_scaled', 'fare', 'fare_normalized']].head()\n"
   ]
  },
  {
   "cell_type": "markdown",
   "id": "17f268ff",
   "metadata": {},
   "source": [
    "## 🔍 8. Pre-processing: Handling Missing Values"
   ]
  },
  {
   "cell_type": "code",
   "execution_count": null,
   "id": "ad743b54",
   "metadata": {},
   "outputs": [],
   "source": [
    "\n",
    "# Check missing values\n",
    "df.isnull().sum()\n",
    "\n",
    "# Fill missing age with median\n",
    "df['age'].fillna(df['age'].median(), inplace=True)\n",
    "df['embarked'].fillna(df['embarked'].mode()[0], inplace=True)\n"
   ]
  },
  {
   "cell_type": "markdown",
   "id": "809d3fd5",
   "metadata": {},
   "source": [
    "## ⚠️ 9. Working with Outliers"
   ]
  },
  {
   "cell_type": "code",
   "execution_count": null,
   "id": "e0adfb3a",
   "metadata": {},
   "outputs": [],
   "source": [
    "\n",
    "# Detect outliers using IQR method\n",
    "Q1 = df['fare'].quantile(0.25)\n",
    "Q3 = df['fare'].quantile(0.75)\n",
    "IQR = Q3 - Q1\n",
    "outliers = df[(df['fare'] < Q1 - 1.5 * IQR) | (df['fare'] > Q3 + 1.5 * IQR)]\n",
    "print(\"Outliers in Fare:\n",
    "\", outliers[['fare']])\n",
    "\n",
    "# Optional: Remove outliers\n",
    "df_clean = df[~((df['fare'] < Q1 - 1.5 * IQR) | (df['fare'] > Q3 + 1.5 * IQR))]\n"
   ]
  },
  {
   "cell_type": "markdown",
   "id": "d7a462e7",
   "metadata": {},
   "source": [
    "## 🏠 10. Homework / Exercise"
   ]
  },
  {
   "cell_type": "markdown",
   "id": "ad08a7e4",
   "metadata": {},
   "source": [
    "\n",
    "**Task 1:** Create a boxplot for the 'fare' column and describe the distribution.\n",
    "**Task 2:** Encode the 'embarked' column and check value counts.\n",
    "**Task 3:** Normalize the 'age' column using MinMaxScaler and visualize using histogram.\n",
    "**Task 4:** Drop rows with missing values and compare dataset shape.\n",
    "**Task 5:** Compute and plot correlation heatmap for the cleaned dataset.\n"
   ]
  }
 ],
 "metadata": {},
 "nbformat": 4,
 "nbformat_minor": 5
}