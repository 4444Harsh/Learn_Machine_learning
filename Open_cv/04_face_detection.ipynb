{
 "cells": [
  {
   "cell_type": "code",
   "execution_count": 1,
   "id": "4301f9b4-3279-485b-82b7-059f42ebb41c",
   "metadata": {},
   "outputs": [],
   "source": [
    "import numpy as np\n",
    "import cv2"
   ]
  },
  {
   "cell_type": "code",
   "execution_count": 2,
   "id": "75b151b1-a701-4e11-89ee-c50cc180fe95",
   "metadata": {},
   "outputs": [],
   "source": [
    "img=cv2.imread(r\"D:\\FaceRecognition_Flask-main\\FaceRecognition_Flask-main\\facerecognition_flask\\New folder\\data\\friends.jpg\")"
   ]
  },
  {
   "cell_type": "raw",
   "id": "4e904369-874f-488b-b564-e52c0c706a10",
   "metadata": {},
   "source": [
    "\"D:\\FaceRecognition_Flask-main\\FaceRecognition_Flask-main\\facerecognition_flask\\haarcascade_frontalface_default.xml\""
   ]
  },
  {
   "cell_type": "code",
   "execution_count": 3,
   "id": "be9e7098-19f4-40a8-b4bf-608fa37744bd",
   "metadata": {},
   "outputs": [],
   "source": [
    "cv2.imshow(\"original\",img)\n",
    "cv2.waitKey()\n",
    "cv2.destroyAllWindows()"
   ]
  },
  {
   "cell_type": "code",
   "execution_count": 14,
   "id": "3533a528-8d60-490f-b8ac-abcba0a3027a",
   "metadata": {},
   "outputs": [],
   "source": [
    "#casecade classfier\n",
    "harr=cv2.CascadeClassifier(r\"D:\\FaceRecognition_Flask-main\\FaceRecognition_Flask-main\\facerecognition_flask\\haarcascade_frontalface_default.xml\")"
   ]
  },
  {
   "cell_type": "code",
   "execution_count": 17,
   "id": "9d850460-87ea-410e-af48-adbbaa4088a6",
   "metadata": {},
   "outputs": [],
   "source": [
    "image=img.copy()\n",
    "\n",
    "#step-1: convert image to grayscale\n",
    "gray=cv2.cvtColor(img,cv2.COLOR_BGR2GRAY)\n",
    "#step2: apply grayscale image to casecade classifier\n",
    "\n",
    "face_rect=harr.detectMultiScale(gray,1.3,5)\n",
    "# step 3:draw bounding box\n",
    "for x,y,w,h in face_rect:\n",
    "    cv2.rectangle(image,(x,y),(x+w,y+h),(0,255,0),2)\n",
    "\n",
    "cv2.imshow('detected face',image)\n",
    "cv2.waitKey()\n",
    "cv2.destroyAllWindows()"
   ]
  },
  {
   "cell_type": "code",
   "execution_count": 16,
   "id": "ae61f749-62bc-46f1-a73e-82751b665397",
   "metadata": {},
   "outputs": [
    {
     "name": "stdout",
     "output_type": "stream",
     "text": [
      "[[255  88  97  97]\n",
      " [128 106  96  96]\n",
      " [405  92  96  96]]\n"
     ]
    }
   ],
   "source": [
    "print(face_rect)"
   ]
  },
  {
   "cell_type": "raw",
   "id": "8d57d845-aabe-4c73-8ebf-54749b3bf87b",
   "metadata": {},
   "source": [
    "\"D:\\FaceRecognition_Flask-main\\FaceRecognition_Flask-main\\facerecognition_flask\\New folder\\data\\video.mp4\""
   ]
  },
  {
   "cell_type": "markdown",
   "id": "084509a1-dece-402f-af37-48a8f22b0c2d",
   "metadata": {},
   "source": [
    "## Real TIme face detectionusing opencv"
   ]
  },
  {
   "cell_type": "code",
   "execution_count": 26,
   "id": "abbd982f-7a57-4991-afb7-1ad593f30724",
   "metadata": {},
   "outputs": [],
   "source": [
    "cap=cv2.VideoCapture(r\"D:\\FaceRecognition_Flask-main\\FaceRecognition_Flask-main\\facerecognition_flask\\New folder\\data\\video.mp4\")\n",
    "while True:\n",
    "    ret,frame=cap.read()\n",
    "    if ret==False:\n",
    "        break\n",
    "    image=frame.copy()\n",
    "\n",
    "    #step-1: convert image to grayscale\n",
    "    gray=cv2.cvtColor(image,cv2.COLOR_BGR2GRAY)\n",
    "    #step2: apply grayscale image to casecade classifier\n",
    "    \n",
    "    face_rect=harr.detectMultiScale(gray,1.3,5)\n",
    "    # step 3:draw bounding box\n",
    "    for x,y,w,h in face_rect:\n",
    "        cv2.rectangle(image,(x,y),(x+w,y+h),(0,255,0),2)\n",
    "    cv2.imshow('face detection',image)\n",
    "    if cv2.waitKey(1)==27:\n",
    "        break\n",
    "cap.release()\n",
    "cv2.destroyAllWindows()"
   ]
  },
  {
   "cell_type": "code",
   "execution_count": null,
   "id": "7b738dc1-64f1-42c6-86f6-8ed9d89e4a95",
   "metadata": {},
   "outputs": [],
   "source": []
  },
  {
   "cell_type": "code",
   "execution_count": null,
   "id": "f67b9150-f88a-4a24-927e-e497bc202fb1",
   "metadata": {},
   "outputs": [],
   "source": []
  }
 ],
 "metadata": {
  "kernelspec": {
   "display_name": "Python 3 (ipykernel)",
   "language": "python",
   "name": "python3"
  },
  "language_info": {
   "codemirror_mode": {
    "name": "ipython",
    "version": 3
   },
   "file_extension": ".py",
   "mimetype": "text/x-python",
   "name": "python",
   "nbconvert_exporter": "python",
   "pygments_lexer": "ipython3",
   "version": "3.12.1"
  }
 },
 "nbformat": 4,
 "nbformat_minor": 5
}
