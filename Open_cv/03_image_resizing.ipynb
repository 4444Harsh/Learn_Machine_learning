{
 "cells": [
  {
   "cell_type": "markdown",
   "id": "d9c89067-6337-435f-b0e5-e0e46e645c7d",
   "metadata": {},
   "source": [
    "# resize"
   ]
  },
  {
   "cell_type": "code",
   "execution_count": 1,
   "id": "6092283f-1143-481d-a3c0-33523ee95e76",
   "metadata": {},
   "outputs": [],
   "source": [
    "import numpy as np\n",
    "import cv2"
   ]
  },
  {
   "cell_type": "code",
   "execution_count": 2,
   "id": "f1245796-930d-462a-87cd-25fd9b8322de",
   "metadata": {},
   "outputs": [],
   "source": [
    "# loading image\n",
    "img=cv2.imread(r\"D:\\FaceRecognition_Flask-main\\FaceRecognition_Flask-main\\facerecognition_flask\\New folder\\data\\flying_bird.jpg\")"
   ]
  },
  {
   "cell_type": "code",
   "execution_count": 3,
   "id": "b55a759e-777e-42c9-94ad-66bea15e15cf",
   "metadata": {},
   "outputs": [
    {
     "name": "stdout",
     "output_type": "stream",
     "text": [
      "(480, 640, 3)\n"
     ]
    }
   ],
   "source": [
    "print(img.shape)"
   ]
  },
  {
   "cell_type": "code",
   "execution_count": 4,
   "id": "c9e08c51-11a7-42a7-91be-5fa078bb42b3",
   "metadata": {},
   "outputs": [],
   "source": [
    "cv2.imshow('original',img)\n",
    "cv2.waitKey(0)\n",
    "cv2.destroyAllWindows()"
   ]
  },
  {
   "cell_type": "markdown",
   "id": "886e6e49-c6e7-4c14-80a3-c3f7ef3a29ce",
   "metadata": {},
   "source": [
    "### \n",
    "1. Shrink the image\n",
    "2. enlarge the image"
   ]
  },
  {
   "cell_type": "code",
   "execution_count": 8,
   "id": "fefe4212-0519-4699-8f71-3f0b0bc7bd04",
   "metadata": {},
   "outputs": [],
   "source": [
    "#shirinking image\n",
    "#width =column,height=rows\n",
    "img_shrink=cv2.resize(img,dsize=(320,240),interpolation=cv2.INTER_AREA)\n",
    "\n",
    "#enlarge\n",
    "# cv2.INTER_CUBIC, cv2.INTER_LINE\n",
    "img_zoom=cv2.resize(img,dsize=(1280,960),interpolation=cv2.INTER_CUBIC)"
   ]
  },
  {
   "cell_type": "code",
   "execution_count": 9,
   "id": "6480f7c7-9651-49c8-847b-ebece53a819f",
   "metadata": {},
   "outputs": [
    {
     "data": {
      "text/plain": [
       "((240, 320, 3), (960, 1280, 3))"
      ]
     },
     "execution_count": 9,
     "metadata": {},
     "output_type": "execute_result"
    }
   ],
   "source": [
    "img_shrink.shape,img_zoom.shape"
   ]
  },
  {
   "cell_type": "code",
   "execution_count": 10,
   "id": "a59b197f-8774-40d6-817f-5c4352756386",
   "metadata": {},
   "outputs": [],
   "source": [
    "cv2.imshow('original',img)\n",
    "cv2.imshow('Shrink',img_shrink)\n",
    "cv2.imshow('Zoom',img_zoom)\n",
    "cv2.waitKey(0)\n",
    "cv2.destroyAllWindows()"
   ]
  },
  {
   "cell_type": "code",
   "execution_count": null,
   "id": "1ceaf303-cc7b-425e-9ac2-f90992c8d2ee",
   "metadata": {},
   "outputs": [],
   "source": []
  }
 ],
 "metadata": {
  "kernelspec": {
   "display_name": "Python 3",
   "language": "python",
   "name": "python3"
  },
  "language_info": {
   "codemirror_mode": {
    "name": "ipython",
    "version": 3
   },
   "file_extension": ".py",
   "mimetype": "text/x-python",
   "name": "python",
   "nbconvert_exporter": "python",
   "pygments_lexer": "ipython3",
   "version": "3.12.1"
  }
 },
 "nbformat": 4,
 "nbformat_minor": 5
}
