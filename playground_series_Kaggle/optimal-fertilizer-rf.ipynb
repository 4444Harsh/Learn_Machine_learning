{
 "cells": [
  {
   "cell_type": "code",
   "execution_count": 1,
   "id": "fd48e29a",
   "metadata": {
    "execution": {
     "iopub.execute_input": "2025-06-07T07:12:21.306837Z",
     "iopub.status.busy": "2025-06-07T07:12:21.306462Z",
     "iopub.status.idle": "2025-06-07T07:12:23.065172Z",
     "shell.execute_reply": "2025-06-07T07:12:23.064230Z"
    },
    "id": "YWLgJ1ogV3pr",
    "papermill": {
     "duration": 1.770463,
     "end_time": "2025-06-07T07:12:23.067114",
     "exception": false,
     "start_time": "2025-06-07T07:12:21.296651",
     "status": "completed"
    },
    "tags": []
   },
   "outputs": [],
   "source": [
    "import pandas as pd"
   ]
  },
  {
   "cell_type": "code",
   "execution_count": 2,
   "id": "70701345",
   "metadata": {
    "execution": {
     "iopub.execute_input": "2025-06-07T07:12:23.086848Z",
     "iopub.status.busy": "2025-06-07T07:12:23.086284Z",
     "iopub.status.idle": "2025-06-07T07:12:24.396978Z",
     "shell.execute_reply": "2025-06-07T07:12:24.395802Z"
    },
    "id": "TgvmVHVLWAHg",
    "papermill": {
     "duration": 1.322845,
     "end_time": "2025-06-07T07:12:24.399092",
     "exception": false,
     "start_time": "2025-06-07T07:12:23.076247",
     "status": "completed"
    },
    "tags": []
   },
   "outputs": [],
   "source": [
    "df=pd.read_csv('/kaggle/input/playground-series-s5e6/train.csv')"
   ]
  },
  {
   "cell_type": "code",
   "execution_count": 3,
   "id": "32bf1d59",
   "metadata": {
    "execution": {
     "iopub.execute_input": "2025-06-07T07:12:24.416918Z",
     "iopub.status.busy": "2025-06-07T07:12:24.416088Z",
     "iopub.status.idle": "2025-06-07T07:12:24.442871Z",
     "shell.execute_reply": "2025-06-07T07:12:24.441917Z"
    },
    "id": "CMN7SYY2WEyF",
    "outputId": "7eac5fcb-2eeb-4573-e3bb-ad8721befa3e",
    "papermill": {
     "duration": 0.037445,
     "end_time": "2025-06-07T07:12:24.444706",
     "exception": false,
     "start_time": "2025-06-07T07:12:24.407261",
     "status": "completed"
    },
    "tags": []
   },
   "outputs": [
    {
     "data": {
      "text/html": [
       "<div>\n",
       "<style scoped>\n",
       "    .dataframe tbody tr th:only-of-type {\n",
       "        vertical-align: middle;\n",
       "    }\n",
       "\n",
       "    .dataframe tbody tr th {\n",
       "        vertical-align: top;\n",
       "    }\n",
       "\n",
       "    .dataframe thead th {\n",
       "        text-align: right;\n",
       "    }\n",
       "</style>\n",
       "<table border=\"1\" class=\"dataframe\">\n",
       "  <thead>\n",
       "    <tr style=\"text-align: right;\">\n",
       "      <th></th>\n",
       "      <th>id</th>\n",
       "      <th>Temparature</th>\n",
       "      <th>Humidity</th>\n",
       "      <th>Moisture</th>\n",
       "      <th>Soil Type</th>\n",
       "      <th>Crop Type</th>\n",
       "      <th>Nitrogen</th>\n",
       "      <th>Potassium</th>\n",
       "      <th>Phosphorous</th>\n",
       "      <th>Fertilizer Name</th>\n",
       "    </tr>\n",
       "  </thead>\n",
       "  <tbody>\n",
       "    <tr>\n",
       "      <th>0</th>\n",
       "      <td>0</td>\n",
       "      <td>37</td>\n",
       "      <td>70</td>\n",
       "      <td>36</td>\n",
       "      <td>Clayey</td>\n",
       "      <td>Sugarcane</td>\n",
       "      <td>36</td>\n",
       "      <td>4</td>\n",
       "      <td>5</td>\n",
       "      <td>28-28</td>\n",
       "    </tr>\n",
       "    <tr>\n",
       "      <th>1</th>\n",
       "      <td>1</td>\n",
       "      <td>27</td>\n",
       "      <td>69</td>\n",
       "      <td>65</td>\n",
       "      <td>Sandy</td>\n",
       "      <td>Millets</td>\n",
       "      <td>30</td>\n",
       "      <td>6</td>\n",
       "      <td>18</td>\n",
       "      <td>28-28</td>\n",
       "    </tr>\n",
       "    <tr>\n",
       "      <th>2</th>\n",
       "      <td>2</td>\n",
       "      <td>29</td>\n",
       "      <td>63</td>\n",
       "      <td>32</td>\n",
       "      <td>Sandy</td>\n",
       "      <td>Millets</td>\n",
       "      <td>24</td>\n",
       "      <td>12</td>\n",
       "      <td>16</td>\n",
       "      <td>17-17-17</td>\n",
       "    </tr>\n",
       "    <tr>\n",
       "      <th>3</th>\n",
       "      <td>3</td>\n",
       "      <td>35</td>\n",
       "      <td>62</td>\n",
       "      <td>54</td>\n",
       "      <td>Sandy</td>\n",
       "      <td>Barley</td>\n",
       "      <td>39</td>\n",
       "      <td>12</td>\n",
       "      <td>4</td>\n",
       "      <td>10-26-26</td>\n",
       "    </tr>\n",
       "    <tr>\n",
       "      <th>4</th>\n",
       "      <td>4</td>\n",
       "      <td>35</td>\n",
       "      <td>58</td>\n",
       "      <td>43</td>\n",
       "      <td>Red</td>\n",
       "      <td>Paddy</td>\n",
       "      <td>37</td>\n",
       "      <td>2</td>\n",
       "      <td>16</td>\n",
       "      <td>DAP</td>\n",
       "    </tr>\n",
       "  </tbody>\n",
       "</table>\n",
       "</div>"
      ],
      "text/plain": [
       "   id  Temparature  Humidity  Moisture Soil Type  Crop Type  Nitrogen  \\\n",
       "0   0           37        70        36    Clayey  Sugarcane        36   \n",
       "1   1           27        69        65     Sandy    Millets        30   \n",
       "2   2           29        63        32     Sandy    Millets        24   \n",
       "3   3           35        62        54     Sandy     Barley        39   \n",
       "4   4           35        58        43       Red      Paddy        37   \n",
       "\n",
       "   Potassium  Phosphorous Fertilizer Name  \n",
       "0          4            5           28-28  \n",
       "1          6           18           28-28  \n",
       "2         12           16        17-17-17  \n",
       "3         12            4        10-26-26  \n",
       "4          2           16             DAP  "
      ]
     },
     "execution_count": 3,
     "metadata": {},
     "output_type": "execute_result"
    }
   ],
   "source": [
    "df.head()"
   ]
  },
  {
   "cell_type": "code",
   "execution_count": 4,
   "id": "8e1bfe0e",
   "metadata": {
    "execution": {
     "iopub.execute_input": "2025-06-07T07:12:24.462638Z",
     "iopub.status.busy": "2025-06-07T07:12:24.462265Z",
     "iopub.status.idle": "2025-06-07T07:12:24.613847Z",
     "shell.execute_reply": "2025-06-07T07:12:24.612608Z"
    },
    "id": "j3ID_lQcWF-e",
    "outputId": "8a59db8c-bcf8-4806-b2d5-25e850d5f18a",
    "papermill": {
     "duration": 0.162689,
     "end_time": "2025-06-07T07:12:24.615651",
     "exception": false,
     "start_time": "2025-06-07T07:12:24.452962",
     "status": "completed"
    },
    "tags": []
   },
   "outputs": [
    {
     "name": "stdout",
     "output_type": "stream",
     "text": [
      "<class 'pandas.core.frame.DataFrame'>\n",
      "RangeIndex: 750000 entries, 0 to 749999\n",
      "Data columns (total 10 columns):\n",
      " #   Column           Non-Null Count   Dtype \n",
      "---  ------           --------------   ----- \n",
      " 0   id               750000 non-null  int64 \n",
      " 1   Temparature      750000 non-null  int64 \n",
      " 2   Humidity         750000 non-null  int64 \n",
      " 3   Moisture         750000 non-null  int64 \n",
      " 4   Soil Type        750000 non-null  object\n",
      " 5   Crop Type        750000 non-null  object\n",
      " 6   Nitrogen         750000 non-null  int64 \n",
      " 7   Potassium        750000 non-null  int64 \n",
      " 8   Phosphorous      750000 non-null  int64 \n",
      " 9   Fertilizer Name  750000 non-null  object\n",
      "dtypes: int64(7), object(3)\n",
      "memory usage: 57.2+ MB\n"
     ]
    }
   ],
   "source": [
    "df.info()"
   ]
  },
  {
   "cell_type": "code",
   "execution_count": 5,
   "id": "b80c1cad",
   "metadata": {
    "execution": {
     "iopub.execute_input": "2025-06-07T07:12:24.634524Z",
     "iopub.status.busy": "2025-06-07T07:12:24.633561Z",
     "iopub.status.idle": "2025-06-07T07:12:25.115231Z",
     "shell.execute_reply": "2025-06-07T07:12:25.114183Z"
    },
    "id": "XBytqe2GWUS4",
    "outputId": "d2a34c21-6e8e-4ad6-dcd6-797d5ff229b7",
    "papermill": {
     "duration": 0.49287,
     "end_time": "2025-06-07T07:12:25.116839",
     "exception": false,
     "start_time": "2025-06-07T07:12:24.623969",
     "status": "completed"
    },
    "tags": []
   },
   "outputs": [
    {
     "name": "stderr",
     "output_type": "stream",
     "text": [
      "/usr/local/lib/python3.11/dist-packages/pandas/io/formats/format.py:1458: RuntimeWarning: invalid value encountered in greater\n",
      "  has_large_values = (abs_vals > 1e6).any()\n",
      "/usr/local/lib/python3.11/dist-packages/pandas/io/formats/format.py:1459: RuntimeWarning: invalid value encountered in less\n",
      "  has_small_values = ((abs_vals < 10 ** (-self.digits)) & (abs_vals > 0)).any()\n",
      "/usr/local/lib/python3.11/dist-packages/pandas/io/formats/format.py:1459: RuntimeWarning: invalid value encountered in greater\n",
      "  has_small_values = ((abs_vals < 10 ** (-self.digits)) & (abs_vals > 0)).any()\n"
     ]
    },
    {
     "data": {
      "text/html": [
       "<div>\n",
       "<style scoped>\n",
       "    .dataframe tbody tr th:only-of-type {\n",
       "        vertical-align: middle;\n",
       "    }\n",
       "\n",
       "    .dataframe tbody tr th {\n",
       "        vertical-align: top;\n",
       "    }\n",
       "\n",
       "    .dataframe thead th {\n",
       "        text-align: right;\n",
       "    }\n",
       "</style>\n",
       "<table border=\"1\" class=\"dataframe\">\n",
       "  <thead>\n",
       "    <tr style=\"text-align: right;\">\n",
       "      <th></th>\n",
       "      <th>id</th>\n",
       "      <th>Temparature</th>\n",
       "      <th>Humidity</th>\n",
       "      <th>Moisture</th>\n",
       "      <th>Soil Type</th>\n",
       "      <th>Crop Type</th>\n",
       "      <th>Nitrogen</th>\n",
       "      <th>Potassium</th>\n",
       "      <th>Phosphorous</th>\n",
       "      <th>Fertilizer Name</th>\n",
       "    </tr>\n",
       "  </thead>\n",
       "  <tbody>\n",
       "    <tr>\n",
       "      <th>count</th>\n",
       "      <td>750000.000000</td>\n",
       "      <td>750000.000000</td>\n",
       "      <td>750000.000000</td>\n",
       "      <td>750000.000000</td>\n",
       "      <td>750000</td>\n",
       "      <td>750000</td>\n",
       "      <td>750000.000000</td>\n",
       "      <td>750000.000000</td>\n",
       "      <td>750000.000000</td>\n",
       "      <td>750000</td>\n",
       "    </tr>\n",
       "    <tr>\n",
       "      <th>unique</th>\n",
       "      <td>NaN</td>\n",
       "      <td>NaN</td>\n",
       "      <td>NaN</td>\n",
       "      <td>NaN</td>\n",
       "      <td>5</td>\n",
       "      <td>11</td>\n",
       "      <td>NaN</td>\n",
       "      <td>NaN</td>\n",
       "      <td>NaN</td>\n",
       "      <td>7</td>\n",
       "    </tr>\n",
       "    <tr>\n",
       "      <th>top</th>\n",
       "      <td>NaN</td>\n",
       "      <td>NaN</td>\n",
       "      <td>NaN</td>\n",
       "      <td>NaN</td>\n",
       "      <td>Sandy</td>\n",
       "      <td>Paddy</td>\n",
       "      <td>NaN</td>\n",
       "      <td>NaN</td>\n",
       "      <td>NaN</td>\n",
       "      <td>14-35-14</td>\n",
       "    </tr>\n",
       "    <tr>\n",
       "      <th>freq</th>\n",
       "      <td>NaN</td>\n",
       "      <td>NaN</td>\n",
       "      <td>NaN</td>\n",
       "      <td>NaN</td>\n",
       "      <td>156710</td>\n",
       "      <td>85754</td>\n",
       "      <td>NaN</td>\n",
       "      <td>NaN</td>\n",
       "      <td>NaN</td>\n",
       "      <td>114436</td>\n",
       "    </tr>\n",
       "    <tr>\n",
       "      <th>mean</th>\n",
       "      <td>374999.500000</td>\n",
       "      <td>31.503565</td>\n",
       "      <td>61.038912</td>\n",
       "      <td>45.184147</td>\n",
       "      <td>NaN</td>\n",
       "      <td>NaN</td>\n",
       "      <td>23.093808</td>\n",
       "      <td>9.478296</td>\n",
       "      <td>21.073227</td>\n",
       "      <td>NaN</td>\n",
       "    </tr>\n",
       "    <tr>\n",
       "      <th>std</th>\n",
       "      <td>216506.495284</td>\n",
       "      <td>4.025574</td>\n",
       "      <td>6.647695</td>\n",
       "      <td>11.794594</td>\n",
       "      <td>NaN</td>\n",
       "      <td>NaN</td>\n",
       "      <td>11.216125</td>\n",
       "      <td>5.765622</td>\n",
       "      <td>12.346831</td>\n",
       "      <td>NaN</td>\n",
       "    </tr>\n",
       "    <tr>\n",
       "      <th>min</th>\n",
       "      <td>0.000000</td>\n",
       "      <td>25.000000</td>\n",
       "      <td>50.000000</td>\n",
       "      <td>25.000000</td>\n",
       "      <td>NaN</td>\n",
       "      <td>NaN</td>\n",
       "      <td>4.000000</td>\n",
       "      <td>0.000000</td>\n",
       "      <td>0.000000</td>\n",
       "      <td>NaN</td>\n",
       "    </tr>\n",
       "    <tr>\n",
       "      <th>25%</th>\n",
       "      <td>187499.750000</td>\n",
       "      <td>28.000000</td>\n",
       "      <td>55.000000</td>\n",
       "      <td>35.000000</td>\n",
       "      <td>NaN</td>\n",
       "      <td>NaN</td>\n",
       "      <td>13.000000</td>\n",
       "      <td>4.000000</td>\n",
       "      <td>10.000000</td>\n",
       "      <td>NaN</td>\n",
       "    </tr>\n",
       "    <tr>\n",
       "      <th>50%</th>\n",
       "      <td>374999.500000</td>\n",
       "      <td>32.000000</td>\n",
       "      <td>61.000000</td>\n",
       "      <td>45.000000</td>\n",
       "      <td>NaN</td>\n",
       "      <td>NaN</td>\n",
       "      <td>23.000000</td>\n",
       "      <td>9.000000</td>\n",
       "      <td>21.000000</td>\n",
       "      <td>NaN</td>\n",
       "    </tr>\n",
       "    <tr>\n",
       "      <th>75%</th>\n",
       "      <td>562499.250000</td>\n",
       "      <td>35.000000</td>\n",
       "      <td>67.000000</td>\n",
       "      <td>55.000000</td>\n",
       "      <td>NaN</td>\n",
       "      <td>NaN</td>\n",
       "      <td>33.000000</td>\n",
       "      <td>14.000000</td>\n",
       "      <td>32.000000</td>\n",
       "      <td>NaN</td>\n",
       "    </tr>\n",
       "    <tr>\n",
       "      <th>max</th>\n",
       "      <td>749999.000000</td>\n",
       "      <td>38.000000</td>\n",
       "      <td>72.000000</td>\n",
       "      <td>65.000000</td>\n",
       "      <td>NaN</td>\n",
       "      <td>NaN</td>\n",
       "      <td>42.000000</td>\n",
       "      <td>19.000000</td>\n",
       "      <td>42.000000</td>\n",
       "      <td>NaN</td>\n",
       "    </tr>\n",
       "  </tbody>\n",
       "</table>\n",
       "</div>"
      ],
      "text/plain": [
       "                   id    Temparature       Humidity       Moisture Soil Type  \\\n",
       "count   750000.000000  750000.000000  750000.000000  750000.000000    750000   \n",
       "unique            NaN            NaN            NaN            NaN         5   \n",
       "top               NaN            NaN            NaN            NaN     Sandy   \n",
       "freq              NaN            NaN            NaN            NaN    156710   \n",
       "mean    374999.500000      31.503565      61.038912      45.184147       NaN   \n",
       "std     216506.495284       4.025574       6.647695      11.794594       NaN   \n",
       "min          0.000000      25.000000      50.000000      25.000000       NaN   \n",
       "25%     187499.750000      28.000000      55.000000      35.000000       NaN   \n",
       "50%     374999.500000      32.000000      61.000000      45.000000       NaN   \n",
       "75%     562499.250000      35.000000      67.000000      55.000000       NaN   \n",
       "max     749999.000000      38.000000      72.000000      65.000000       NaN   \n",
       "\n",
       "       Crop Type       Nitrogen      Potassium    Phosphorous Fertilizer Name  \n",
       "count     750000  750000.000000  750000.000000  750000.000000          750000  \n",
       "unique        11            NaN            NaN            NaN               7  \n",
       "top        Paddy            NaN            NaN            NaN        14-35-14  \n",
       "freq       85754            NaN            NaN            NaN          114436  \n",
       "mean         NaN      23.093808       9.478296      21.073227             NaN  \n",
       "std          NaN      11.216125       5.765622      12.346831             NaN  \n",
       "min          NaN       4.000000       0.000000       0.000000             NaN  \n",
       "25%          NaN      13.000000       4.000000      10.000000             NaN  \n",
       "50%          NaN      23.000000       9.000000      21.000000             NaN  \n",
       "75%          NaN      33.000000      14.000000      32.000000             NaN  \n",
       "max          NaN      42.000000      19.000000      42.000000             NaN  "
      ]
     },
     "execution_count": 5,
     "metadata": {},
     "output_type": "execute_result"
    }
   ],
   "source": [
    "df.describe(include='all')"
   ]
  },
  {
   "cell_type": "code",
   "execution_count": 6,
   "id": "030abd39",
   "metadata": {
    "execution": {
     "iopub.execute_input": "2025-06-07T07:12:25.134343Z",
     "iopub.status.busy": "2025-06-07T07:12:25.134044Z",
     "iopub.status.idle": "2025-06-07T07:12:25.195324Z",
     "shell.execute_reply": "2025-06-07T07:12:25.194488Z"
    },
    "id": "wjS1VoLQXFP3",
    "outputId": "f93ff2cf-0d24-496e-b24b-c173708914db",
    "papermill": {
     "duration": 0.071638,
     "end_time": "2025-06-07T07:12:25.196782",
     "exception": false,
     "start_time": "2025-06-07T07:12:25.125144",
     "status": "completed"
    },
    "tags": []
   },
   "outputs": [
    {
     "data": {
      "text/plain": [
       "Fertilizer Name\n",
       "14-35-14    114436\n",
       "10-26-26    113887\n",
       "17-17-17    112453\n",
       "28-28       111158\n",
       "20-20       110889\n",
       "DAP          94860\n",
       "Urea         92317\n",
       "Name: count, dtype: int64"
      ]
     },
     "execution_count": 6,
     "metadata": {},
     "output_type": "execute_result"
    }
   ],
   "source": [
    "df['Fertilizer Name'].value_counts()"
   ]
  },
  {
   "cell_type": "code",
   "execution_count": 7,
   "id": "7c10f580",
   "metadata": {
    "execution": {
     "iopub.execute_input": "2025-06-07T07:12:25.213890Z",
     "iopub.status.busy": "2025-06-07T07:12:25.213307Z",
     "iopub.status.idle": "2025-06-07T07:12:25.276159Z",
     "shell.execute_reply": "2025-06-07T07:12:25.275514Z"
    },
    "id": "wNJr5wnsgjWi",
    "outputId": "fe932c55-d472-4e72-cbe9-8f8d6d6a8a73",
    "papermill": {
     "duration": 0.072621,
     "end_time": "2025-06-07T07:12:25.277460",
     "exception": false,
     "start_time": "2025-06-07T07:12:25.204839",
     "status": "completed"
    },
    "tags": []
   },
   "outputs": [
    {
     "data": {
      "text/plain": [
       "Fertilizer Name\n",
       "14-35-14    114436\n",
       "10-26-26    113887\n",
       "17-17-17    112453\n",
       "28-28       111158\n",
       "20-20       110889\n",
       "DAP          94860\n",
       "Urea         92317\n",
       "Name: count, dtype: int64"
      ]
     },
     "execution_count": 7,
     "metadata": {},
     "output_type": "execute_result"
    }
   ],
   "source": [
    "df['Fertilizer Name'].value_counts()"
   ]
  },
  {
   "cell_type": "code",
   "execution_count": 8,
   "id": "215a3b29",
   "metadata": {
    "execution": {
     "iopub.execute_input": "2025-06-07T07:12:25.294170Z",
     "iopub.status.busy": "2025-06-07T07:12:25.293910Z",
     "iopub.status.idle": "2025-06-07T07:12:25.356805Z",
     "shell.execute_reply": "2025-06-07T07:12:25.355952Z"
    },
    "id": "W7g7KqG5XgmH",
    "outputId": "9b940aa3-2a50-4ede-bb04-b8e2e7424ddc",
    "papermill": {
     "duration": 0.072774,
     "end_time": "2025-06-07T07:12:25.358189",
     "exception": false,
     "start_time": "2025-06-07T07:12:25.285415",
     "status": "completed"
    },
    "tags": []
   },
   "outputs": [
    {
     "data": {
      "text/plain": [
       "Soil Type\n",
       "Sandy     156710\n",
       "Black     150956\n",
       "Clayey    148382\n",
       "Red       148102\n",
       "Loamy     145850\n",
       "Name: count, dtype: int64"
      ]
     },
     "execution_count": 8,
     "metadata": {},
     "output_type": "execute_result"
    }
   ],
   "source": [
    "df['Soil Type'].value_counts()"
   ]
  },
  {
   "cell_type": "code",
   "execution_count": 9,
   "id": "df9635a8",
   "metadata": {
    "execution": {
     "iopub.execute_input": "2025-06-07T07:12:25.375607Z",
     "iopub.status.busy": "2025-06-07T07:12:25.375332Z",
     "iopub.status.idle": "2025-06-07T07:12:25.436189Z",
     "shell.execute_reply": "2025-06-07T07:12:25.435508Z"
    },
    "id": "cGUqnr9_X5_o",
    "outputId": "3c485957-a7c9-416f-fd49-12bf253c5a5c",
    "papermill": {
     "duration": 0.071089,
     "end_time": "2025-06-07T07:12:25.437513",
     "exception": false,
     "start_time": "2025-06-07T07:12:25.366424",
     "status": "completed"
    },
    "tags": []
   },
   "outputs": [
    {
     "data": {
      "text/plain": [
       "Crop Type\n",
       "Paddy          85754\n",
       "Pulses         78180\n",
       "Cotton         69171\n",
       "Tobacco        68000\n",
       "Wheat          66628\n",
       "Millets        65291\n",
       "Barley         65045\n",
       "Sugarcane      64269\n",
       "Oil seeds      64184\n",
       "Maize          62569\n",
       "Ground Nuts    60909\n",
       "Name: count, dtype: int64"
      ]
     },
     "execution_count": 9,
     "metadata": {},
     "output_type": "execute_result"
    }
   ],
   "source": [
    "df['Crop Type'].value_counts()"
   ]
  },
  {
   "cell_type": "code",
   "execution_count": 10,
   "id": "5fd71cc2",
   "metadata": {
    "execution": {
     "iopub.execute_input": "2025-06-07T07:12:25.454757Z",
     "iopub.status.busy": "2025-06-07T07:12:25.454469Z",
     "iopub.status.idle": "2025-06-07T07:12:26.824035Z",
     "shell.execute_reply": "2025-06-07T07:12:26.823105Z"
    },
    "id": "n31MMxLMYV3M",
    "papermill": {
     "duration": 1.380098,
     "end_time": "2025-06-07T07:12:26.825819",
     "exception": false,
     "start_time": "2025-06-07T07:12:25.445721",
     "status": "completed"
    },
    "tags": []
   },
   "outputs": [],
   "source": [
    "from sklearn.preprocessing import LabelEncoder"
   ]
  },
  {
   "cell_type": "code",
   "execution_count": 11,
   "id": "6ecb640d",
   "metadata": {
    "execution": {
     "iopub.execute_input": "2025-06-07T07:12:26.845071Z",
     "iopub.status.busy": "2025-06-07T07:12:26.844481Z",
     "iopub.status.idle": "2025-06-07T07:12:26.849102Z",
     "shell.execute_reply": "2025-06-07T07:12:26.848379Z"
    },
    "id": "-rFKB9MXYaQP",
    "papermill": {
     "duration": 0.01579,
     "end_time": "2025-06-07T07:12:26.850514",
     "exception": false,
     "start_time": "2025-06-07T07:12:26.834724",
     "status": "completed"
    },
    "tags": []
   },
   "outputs": [],
   "source": [
    "le=LabelEncoder()"
   ]
  },
  {
   "cell_type": "code",
   "execution_count": 12,
   "id": "7d07f0a0",
   "metadata": {
    "execution": {
     "iopub.execute_input": "2025-06-07T07:12:26.869588Z",
     "iopub.status.busy": "2025-06-07T07:12:26.869158Z",
     "iopub.status.idle": "2025-06-07T07:12:26.894812Z",
     "shell.execute_reply": "2025-06-07T07:12:26.894041Z"
    },
    "id": "JvYnuZrZYcsW",
    "papermill": {
     "duration": 0.03723,
     "end_time": "2025-06-07T07:12:26.896547",
     "exception": false,
     "start_time": "2025-06-07T07:12:26.859317",
     "status": "completed"
    },
    "tags": []
   },
   "outputs": [],
   "source": [
    "object_cols=df.select_dtypes(include='object').columns"
   ]
  },
  {
   "cell_type": "code",
   "execution_count": 13,
   "id": "da07ba45",
   "metadata": {
    "execution": {
     "iopub.execute_input": "2025-06-07T07:12:26.915335Z",
     "iopub.status.busy": "2025-06-07T07:12:26.914965Z",
     "iopub.status.idle": "2025-06-07T07:12:26.920775Z",
     "shell.execute_reply": "2025-06-07T07:12:26.920100Z"
    },
    "id": "IDmyacawYjhb",
    "outputId": "f35410aa-75a8-44ae-cb9b-57351e6ee3ab",
    "papermill": {
     "duration": 0.016813,
     "end_time": "2025-06-07T07:12:26.922067",
     "exception": false,
     "start_time": "2025-06-07T07:12:26.905254",
     "status": "completed"
    },
    "tags": []
   },
   "outputs": [
    {
     "data": {
      "text/plain": [
       "Index(['Soil Type', 'Crop Type', 'Fertilizer Name'], dtype='object')"
      ]
     },
     "execution_count": 13,
     "metadata": {},
     "output_type": "execute_result"
    }
   ],
   "source": [
    "object_cols"
   ]
  },
  {
   "cell_type": "code",
   "execution_count": 14,
   "id": "4d0bfab3",
   "metadata": {
    "execution": {
     "iopub.execute_input": "2025-06-07T07:12:26.941051Z",
     "iopub.status.busy": "2025-06-07T07:12:26.940602Z",
     "iopub.status.idle": "2025-06-07T07:12:27.347569Z",
     "shell.execute_reply": "2025-06-07T07:12:27.346330Z"
    },
    "id": "IJLMQk_TYkib",
    "papermill": {
     "duration": 0.419689,
     "end_time": "2025-06-07T07:12:27.350236",
     "exception": false,
     "start_time": "2025-06-07T07:12:26.930547",
     "status": "completed"
    },
    "tags": []
   },
   "outputs": [],
   "source": [
    "for col in object_cols:\n",
    "  df[col]=le.fit_transform(df[col])"
   ]
  },
  {
   "cell_type": "code",
   "execution_count": 15,
   "id": "d66178e2",
   "metadata": {
    "execution": {
     "iopub.execute_input": "2025-06-07T07:12:27.368801Z",
     "iopub.status.busy": "2025-06-07T07:12:27.368387Z",
     "iopub.status.idle": "2025-06-07T07:12:27.397808Z",
     "shell.execute_reply": "2025-06-07T07:12:27.396743Z"
    },
    "id": "Ww4Yd-61Yunt",
    "outputId": "8ff2e645-142c-4a16-89a1-57377b0f096e",
    "papermill": {
     "duration": 0.040484,
     "end_time": "2025-06-07T07:12:27.399536",
     "exception": false,
     "start_time": "2025-06-07T07:12:27.359052",
     "status": "completed"
    },
    "tags": []
   },
   "outputs": [
    {
     "name": "stdout",
     "output_type": "stream",
     "text": [
      "<class 'pandas.core.frame.DataFrame'>\n",
      "RangeIndex: 750000 entries, 0 to 749999\n",
      "Data columns (total 10 columns):\n",
      " #   Column           Non-Null Count   Dtype\n",
      "---  ------           --------------   -----\n",
      " 0   id               750000 non-null  int64\n",
      " 1   Temparature      750000 non-null  int64\n",
      " 2   Humidity         750000 non-null  int64\n",
      " 3   Moisture         750000 non-null  int64\n",
      " 4   Soil Type        750000 non-null  int64\n",
      " 5   Crop Type        750000 non-null  int64\n",
      " 6   Nitrogen         750000 non-null  int64\n",
      " 7   Potassium        750000 non-null  int64\n",
      " 8   Phosphorous      750000 non-null  int64\n",
      " 9   Fertilizer Name  750000 non-null  int64\n",
      "dtypes: int64(10)\n",
      "memory usage: 57.2 MB\n"
     ]
    }
   ],
   "source": [
    "df.info()"
   ]
  },
  {
   "cell_type": "code",
   "execution_count": 16,
   "id": "f045741c",
   "metadata": {
    "execution": {
     "iopub.execute_input": "2025-06-07T07:12:27.417213Z",
     "iopub.status.busy": "2025-06-07T07:12:27.416942Z",
     "iopub.status.idle": "2025-06-07T07:12:27.426711Z",
     "shell.execute_reply": "2025-06-07T07:12:27.425925Z"
    },
    "id": "mDD-A6U3YvwD",
    "outputId": "4f005191-6909-4a8b-cc4f-91c0a923ea67",
    "papermill": {
     "duration": 0.020141,
     "end_time": "2025-06-07T07:12:27.428137",
     "exception": false,
     "start_time": "2025-06-07T07:12:27.407996",
     "status": "completed"
    },
    "tags": []
   },
   "outputs": [
    {
     "data": {
      "text/html": [
       "<div>\n",
       "<style scoped>\n",
       "    .dataframe tbody tr th:only-of-type {\n",
       "        vertical-align: middle;\n",
       "    }\n",
       "\n",
       "    .dataframe tbody tr th {\n",
       "        vertical-align: top;\n",
       "    }\n",
       "\n",
       "    .dataframe thead th {\n",
       "        text-align: right;\n",
       "    }\n",
       "</style>\n",
       "<table border=\"1\" class=\"dataframe\">\n",
       "  <thead>\n",
       "    <tr style=\"text-align: right;\">\n",
       "      <th></th>\n",
       "      <th>id</th>\n",
       "      <th>Temparature</th>\n",
       "      <th>Humidity</th>\n",
       "      <th>Moisture</th>\n",
       "      <th>Soil Type</th>\n",
       "      <th>Crop Type</th>\n",
       "      <th>Nitrogen</th>\n",
       "      <th>Potassium</th>\n",
       "      <th>Phosphorous</th>\n",
       "      <th>Fertilizer Name</th>\n",
       "    </tr>\n",
       "  </thead>\n",
       "  <tbody>\n",
       "    <tr>\n",
       "      <th>0</th>\n",
       "      <td>0</td>\n",
       "      <td>37</td>\n",
       "      <td>70</td>\n",
       "      <td>36</td>\n",
       "      <td>1</td>\n",
       "      <td>8</td>\n",
       "      <td>36</td>\n",
       "      <td>4</td>\n",
       "      <td>5</td>\n",
       "      <td>4</td>\n",
       "    </tr>\n",
       "    <tr>\n",
       "      <th>1</th>\n",
       "      <td>1</td>\n",
       "      <td>27</td>\n",
       "      <td>69</td>\n",
       "      <td>65</td>\n",
       "      <td>4</td>\n",
       "      <td>4</td>\n",
       "      <td>30</td>\n",
       "      <td>6</td>\n",
       "      <td>18</td>\n",
       "      <td>4</td>\n",
       "    </tr>\n",
       "    <tr>\n",
       "      <th>2</th>\n",
       "      <td>2</td>\n",
       "      <td>29</td>\n",
       "      <td>63</td>\n",
       "      <td>32</td>\n",
       "      <td>4</td>\n",
       "      <td>4</td>\n",
       "      <td>24</td>\n",
       "      <td>12</td>\n",
       "      <td>16</td>\n",
       "      <td>2</td>\n",
       "    </tr>\n",
       "    <tr>\n",
       "      <th>3</th>\n",
       "      <td>3</td>\n",
       "      <td>35</td>\n",
       "      <td>62</td>\n",
       "      <td>54</td>\n",
       "      <td>4</td>\n",
       "      <td>0</td>\n",
       "      <td>39</td>\n",
       "      <td>12</td>\n",
       "      <td>4</td>\n",
       "      <td>0</td>\n",
       "    </tr>\n",
       "    <tr>\n",
       "      <th>4</th>\n",
       "      <td>4</td>\n",
       "      <td>35</td>\n",
       "      <td>58</td>\n",
       "      <td>43</td>\n",
       "      <td>3</td>\n",
       "      <td>6</td>\n",
       "      <td>37</td>\n",
       "      <td>2</td>\n",
       "      <td>16</td>\n",
       "      <td>5</td>\n",
       "    </tr>\n",
       "  </tbody>\n",
       "</table>\n",
       "</div>"
      ],
      "text/plain": [
       "   id  Temparature  Humidity  Moisture  Soil Type  Crop Type  Nitrogen  \\\n",
       "0   0           37        70        36          1          8        36   \n",
       "1   1           27        69        65          4          4        30   \n",
       "2   2           29        63        32          4          4        24   \n",
       "3   3           35        62        54          4          0        39   \n",
       "4   4           35        58        43          3          6        37   \n",
       "\n",
       "   Potassium  Phosphorous  Fertilizer Name  \n",
       "0          4            5                4  \n",
       "1          6           18                4  \n",
       "2         12           16                2  \n",
       "3         12            4                0  \n",
       "4          2           16                5  "
      ]
     },
     "execution_count": 16,
     "metadata": {},
     "output_type": "execute_result"
    }
   ],
   "source": [
    "df.head()"
   ]
  },
  {
   "cell_type": "code",
   "execution_count": 17,
   "id": "c8d0bde5",
   "metadata": {
    "execution": {
     "iopub.execute_input": "2025-06-07T07:12:27.445874Z",
     "iopub.status.busy": "2025-06-07T07:12:27.445541Z",
     "iopub.status.idle": "2025-06-07T07:12:27.477325Z",
     "shell.execute_reply": "2025-06-07T07:12:27.476551Z"
    },
    "id": "_OKsHrJXY4eI",
    "papermill": {
     "duration": 0.042406,
     "end_time": "2025-06-07T07:12:27.478982",
     "exception": false,
     "start_time": "2025-06-07T07:12:27.436576",
     "status": "completed"
    },
    "tags": []
   },
   "outputs": [],
   "source": [
    "df=df.drop(columns=['id'])"
   ]
  },
  {
   "cell_type": "code",
   "execution_count": 18,
   "id": "3737ac5f",
   "metadata": {
    "execution": {
     "iopub.execute_input": "2025-06-07T07:12:27.568094Z",
     "iopub.status.busy": "2025-06-07T07:12:27.567788Z",
     "iopub.status.idle": "2025-06-07T07:12:27.577664Z",
     "shell.execute_reply": "2025-06-07T07:12:27.576743Z"
    },
    "id": "GQMe_9vDZDv2",
    "outputId": "f6cef8ec-8c08-45c8-c0ae-324411036633",
    "papermill": {
     "duration": 0.021479,
     "end_time": "2025-06-07T07:12:27.579129",
     "exception": false,
     "start_time": "2025-06-07T07:12:27.557650",
     "status": "completed"
    },
    "tags": []
   },
   "outputs": [
    {
     "data": {
      "text/html": [
       "<div>\n",
       "<style scoped>\n",
       "    .dataframe tbody tr th:only-of-type {\n",
       "        vertical-align: middle;\n",
       "    }\n",
       "\n",
       "    .dataframe tbody tr th {\n",
       "        vertical-align: top;\n",
       "    }\n",
       "\n",
       "    .dataframe thead th {\n",
       "        text-align: right;\n",
       "    }\n",
       "</style>\n",
       "<table border=\"1\" class=\"dataframe\">\n",
       "  <thead>\n",
       "    <tr style=\"text-align: right;\">\n",
       "      <th></th>\n",
       "      <th>Temparature</th>\n",
       "      <th>Humidity</th>\n",
       "      <th>Moisture</th>\n",
       "      <th>Soil Type</th>\n",
       "      <th>Crop Type</th>\n",
       "      <th>Nitrogen</th>\n",
       "      <th>Potassium</th>\n",
       "      <th>Phosphorous</th>\n",
       "      <th>Fertilizer Name</th>\n",
       "    </tr>\n",
       "  </thead>\n",
       "  <tbody>\n",
       "    <tr>\n",
       "      <th>0</th>\n",
       "      <td>37</td>\n",
       "      <td>70</td>\n",
       "      <td>36</td>\n",
       "      <td>1</td>\n",
       "      <td>8</td>\n",
       "      <td>36</td>\n",
       "      <td>4</td>\n",
       "      <td>5</td>\n",
       "      <td>4</td>\n",
       "    </tr>\n",
       "    <tr>\n",
       "      <th>1</th>\n",
       "      <td>27</td>\n",
       "      <td>69</td>\n",
       "      <td>65</td>\n",
       "      <td>4</td>\n",
       "      <td>4</td>\n",
       "      <td>30</td>\n",
       "      <td>6</td>\n",
       "      <td>18</td>\n",
       "      <td>4</td>\n",
       "    </tr>\n",
       "    <tr>\n",
       "      <th>2</th>\n",
       "      <td>29</td>\n",
       "      <td>63</td>\n",
       "      <td>32</td>\n",
       "      <td>4</td>\n",
       "      <td>4</td>\n",
       "      <td>24</td>\n",
       "      <td>12</td>\n",
       "      <td>16</td>\n",
       "      <td>2</td>\n",
       "    </tr>\n",
       "    <tr>\n",
       "      <th>3</th>\n",
       "      <td>35</td>\n",
       "      <td>62</td>\n",
       "      <td>54</td>\n",
       "      <td>4</td>\n",
       "      <td>0</td>\n",
       "      <td>39</td>\n",
       "      <td>12</td>\n",
       "      <td>4</td>\n",
       "      <td>0</td>\n",
       "    </tr>\n",
       "    <tr>\n",
       "      <th>4</th>\n",
       "      <td>35</td>\n",
       "      <td>58</td>\n",
       "      <td>43</td>\n",
       "      <td>3</td>\n",
       "      <td>6</td>\n",
       "      <td>37</td>\n",
       "      <td>2</td>\n",
       "      <td>16</td>\n",
       "      <td>5</td>\n",
       "    </tr>\n",
       "  </tbody>\n",
       "</table>\n",
       "</div>"
      ],
      "text/plain": [
       "   Temparature  Humidity  Moisture  Soil Type  Crop Type  Nitrogen  Potassium  \\\n",
       "0           37        70        36          1          8        36          4   \n",
       "1           27        69        65          4          4        30          6   \n",
       "2           29        63        32          4          4        24         12   \n",
       "3           35        62        54          4          0        39         12   \n",
       "4           35        58        43          3          6        37          2   \n",
       "\n",
       "   Phosphorous  Fertilizer Name  \n",
       "0            5                4  \n",
       "1           18                4  \n",
       "2           16                2  \n",
       "3            4                0  \n",
       "4           16                5  "
      ]
     },
     "execution_count": 18,
     "metadata": {},
     "output_type": "execute_result"
    }
   ],
   "source": [
    "df.head()"
   ]
  },
  {
   "cell_type": "code",
   "execution_count": 19,
   "id": "3f1567b1",
   "metadata": {
    "execution": {
     "iopub.execute_input": "2025-06-07T07:12:27.597659Z",
     "iopub.status.busy": "2025-06-07T07:12:27.597394Z",
     "iopub.status.idle": "2025-06-07T07:12:27.601487Z",
     "shell.execute_reply": "2025-06-07T07:12:27.600771Z"
    },
    "id": "pmIua5F7Za60",
    "papermill": {
     "duration": 0.015106,
     "end_time": "2025-06-07T07:12:27.603109",
     "exception": false,
     "start_time": "2025-06-07T07:12:27.588003",
     "status": "completed"
    },
    "tags": []
   },
   "outputs": [],
   "source": [
    "from sklearn.preprocessing import StandardScaler"
   ]
  },
  {
   "cell_type": "code",
   "execution_count": 20,
   "id": "b50a15fb",
   "metadata": {
    "execution": {
     "iopub.execute_input": "2025-06-07T07:12:27.621811Z",
     "iopub.status.busy": "2025-06-07T07:12:27.621453Z",
     "iopub.status.idle": "2025-06-07T07:12:27.625562Z",
     "shell.execute_reply": "2025-06-07T07:12:27.624749Z"
    },
    "id": "8wqFo92nZgQZ",
    "papermill": {
     "duration": 0.015209,
     "end_time": "2025-06-07T07:12:27.626970",
     "exception": false,
     "start_time": "2025-06-07T07:12:27.611761",
     "status": "completed"
    },
    "tags": []
   },
   "outputs": [],
   "source": [
    "scaler=StandardScaler()"
   ]
  },
  {
   "cell_type": "code",
   "execution_count": 21,
   "id": "1bc8894e",
   "metadata": {
    "execution": {
     "iopub.execute_input": "2025-06-07T07:12:27.645507Z",
     "iopub.status.busy": "2025-06-07T07:12:27.645205Z",
     "iopub.status.idle": "2025-06-07T07:12:27.649596Z",
     "shell.execute_reply": "2025-06-07T07:12:27.648643Z"
    },
    "id": "ca7LVt5vZj3_",
    "papermill": {
     "duration": 0.015438,
     "end_time": "2025-06-07T07:12:27.651048",
     "exception": false,
     "start_time": "2025-06-07T07:12:27.635610",
     "status": "completed"
    },
    "tags": []
   },
   "outputs": [],
   "source": [
    "numerical_features = ['Temparature', 'Humidity', 'Moisture', 'Nitrogen', 'Potassium', 'Phosphorous']"
   ]
  },
  {
   "cell_type": "code",
   "execution_count": 22,
   "id": "b4919683",
   "metadata": {
    "execution": {
     "iopub.execute_input": "2025-06-07T07:12:27.669532Z",
     "iopub.status.busy": "2025-06-07T07:12:27.669009Z",
     "iopub.status.idle": "2025-06-07T07:12:27.832238Z",
     "shell.execute_reply": "2025-06-07T07:12:27.831163Z"
    },
    "id": "1FtjoEj8ZnMX",
    "papermill": {
     "duration": 0.174196,
     "end_time": "2025-06-07T07:12:27.834056",
     "exception": false,
     "start_time": "2025-06-07T07:12:27.659860",
     "status": "completed"
    },
    "tags": []
   },
   "outputs": [],
   "source": [
    "df[numerical_features]=scaler.fit_transform(df[numerical_features])"
   ]
  },
  {
   "cell_type": "code",
   "execution_count": 23,
   "id": "ab527902",
   "metadata": {
    "execution": {
     "iopub.execute_input": "2025-06-07T07:12:27.853419Z",
     "iopub.status.busy": "2025-06-07T07:12:27.853127Z",
     "iopub.status.idle": "2025-06-07T07:12:27.865372Z",
     "shell.execute_reply": "2025-06-07T07:12:27.864475Z"
    },
    "id": "GztVcX6GZu4G",
    "outputId": "2cbc3572-b7cc-408a-fc69-bc5f5b6d078f",
    "papermill": {
     "duration": 0.023182,
     "end_time": "2025-06-07T07:12:27.866916",
     "exception": false,
     "start_time": "2025-06-07T07:12:27.843734",
     "status": "completed"
    },
    "tags": []
   },
   "outputs": [
    {
     "data": {
      "text/html": [
       "<div>\n",
       "<style scoped>\n",
       "    .dataframe tbody tr th:only-of-type {\n",
       "        vertical-align: middle;\n",
       "    }\n",
       "\n",
       "    .dataframe tbody tr th {\n",
       "        vertical-align: top;\n",
       "    }\n",
       "\n",
       "    .dataframe thead th {\n",
       "        text-align: right;\n",
       "    }\n",
       "</style>\n",
       "<table border=\"1\" class=\"dataframe\">\n",
       "  <thead>\n",
       "    <tr style=\"text-align: right;\">\n",
       "      <th></th>\n",
       "      <th>Temparature</th>\n",
       "      <th>Humidity</th>\n",
       "      <th>Moisture</th>\n",
       "      <th>Soil Type</th>\n",
       "      <th>Crop Type</th>\n",
       "      <th>Nitrogen</th>\n",
       "      <th>Potassium</th>\n",
       "      <th>Phosphorous</th>\n",
       "      <th>Fertilizer Name</th>\n",
       "    </tr>\n",
       "  </thead>\n",
       "  <tbody>\n",
       "    <tr>\n",
       "      <th>0</th>\n",
       "      <td>1.365380</td>\n",
       "      <td>1.348000</td>\n",
       "      <td>-0.778675</td>\n",
       "      <td>1</td>\n",
       "      <td>8</td>\n",
       "      <td>1.150683</td>\n",
       "      <td>-0.950166</td>\n",
       "      <td>-1.301811</td>\n",
       "      <td>4</td>\n",
       "    </tr>\n",
       "    <tr>\n",
       "      <th>1</th>\n",
       "      <td>-1.118740</td>\n",
       "      <td>1.197572</td>\n",
       "      <td>1.680080</td>\n",
       "      <td>4</td>\n",
       "      <td>4</td>\n",
       "      <td>0.615738</td>\n",
       "      <td>-0.603282</td>\n",
       "      <td>-0.248908</td>\n",
       "      <td>4</td>\n",
       "    </tr>\n",
       "    <tr>\n",
       "      <th>2</th>\n",
       "      <td>-0.621916</td>\n",
       "      <td>0.295003</td>\n",
       "      <td>-1.117813</td>\n",
       "      <td>4</td>\n",
       "      <td>4</td>\n",
       "      <td>0.080794</td>\n",
       "      <td>0.437369</td>\n",
       "      <td>-0.410893</td>\n",
       "      <td>2</td>\n",
       "    </tr>\n",
       "    <tr>\n",
       "      <th>3</th>\n",
       "      <td>0.868556</td>\n",
       "      <td>0.144575</td>\n",
       "      <td>0.747449</td>\n",
       "      <td>4</td>\n",
       "      <td>0</td>\n",
       "      <td>1.418155</td>\n",
       "      <td>0.437369</td>\n",
       "      <td>-1.382803</td>\n",
       "      <td>0</td>\n",
       "    </tr>\n",
       "    <tr>\n",
       "      <th>4</th>\n",
       "      <td>0.868556</td>\n",
       "      <td>-0.457138</td>\n",
       "      <td>-0.185182</td>\n",
       "      <td>3</td>\n",
       "      <td>6</td>\n",
       "      <td>1.239840</td>\n",
       "      <td>-1.297050</td>\n",
       "      <td>-0.410893</td>\n",
       "      <td>5</td>\n",
       "    </tr>\n",
       "  </tbody>\n",
       "</table>\n",
       "</div>"
      ],
      "text/plain": [
       "   Temparature  Humidity  Moisture  Soil Type  Crop Type  Nitrogen  Potassium  \\\n",
       "0     1.365380  1.348000 -0.778675          1          8  1.150683  -0.950166   \n",
       "1    -1.118740  1.197572  1.680080          4          4  0.615738  -0.603282   \n",
       "2    -0.621916  0.295003 -1.117813          4          4  0.080794   0.437369   \n",
       "3     0.868556  0.144575  0.747449          4          0  1.418155   0.437369   \n",
       "4     0.868556 -0.457138 -0.185182          3          6  1.239840  -1.297050   \n",
       "\n",
       "   Phosphorous  Fertilizer Name  \n",
       "0    -1.301811                4  \n",
       "1    -0.248908                4  \n",
       "2    -0.410893                2  \n",
       "3    -1.382803                0  \n",
       "4    -0.410893                5  "
      ]
     },
     "execution_count": 23,
     "metadata": {},
     "output_type": "execute_result"
    }
   ],
   "source": [
    "df.head()"
   ]
  },
  {
   "cell_type": "code",
   "execution_count": 24,
   "id": "abe2195a",
   "metadata": {
    "execution": {
     "iopub.execute_input": "2025-06-07T07:12:27.885798Z",
     "iopub.status.busy": "2025-06-07T07:12:27.885459Z",
     "iopub.status.idle": "2025-06-07T07:12:27.920528Z",
     "shell.execute_reply": "2025-06-07T07:12:27.919729Z"
    },
    "id": "YXK9VGc2aKy8",
    "outputId": "aa01187b-9c80-4f8e-954a-1955cc0b0796",
    "papermill": {
     "duration": 0.046074,
     "end_time": "2025-06-07T07:12:27.922014",
     "exception": false,
     "start_time": "2025-06-07T07:12:27.875940",
     "status": "completed"
    },
    "tags": []
   },
   "outputs": [
    {
     "data": {
      "text/html": [
       "<div>\n",
       "<style scoped>\n",
       "    .dataframe tbody tr th:only-of-type {\n",
       "        vertical-align: middle;\n",
       "    }\n",
       "\n",
       "    .dataframe tbody tr th {\n",
       "        vertical-align: top;\n",
       "    }\n",
       "\n",
       "    .dataframe thead th {\n",
       "        text-align: right;\n",
       "    }\n",
       "</style>\n",
       "<table border=\"1\" class=\"dataframe\">\n",
       "  <thead>\n",
       "    <tr style=\"text-align: right;\">\n",
       "      <th></th>\n",
       "      <th>Temparature</th>\n",
       "      <th>Humidity</th>\n",
       "      <th>Moisture</th>\n",
       "      <th>Soil Type</th>\n",
       "      <th>Crop Type</th>\n",
       "      <th>Nitrogen</th>\n",
       "      <th>Potassium</th>\n",
       "      <th>Phosphorous</th>\n",
       "      <th>Fertilizer Name</th>\n",
       "      <th>NPK_Ratio_N</th>\n",
       "      <th>NPK_Ratio_P</th>\n",
       "      <th>NPK_Ratio_K</th>\n",
       "      <th>Total_Nutrients</th>\n",
       "    </tr>\n",
       "  </thead>\n",
       "  <tbody>\n",
       "    <tr>\n",
       "      <th>0</th>\n",
       "      <td>1.365380</td>\n",
       "      <td>1.348000</td>\n",
       "      <td>-0.778675</td>\n",
       "      <td>1</td>\n",
       "      <td>8</td>\n",
       "      <td>1.150683</td>\n",
       "      <td>-0.950166</td>\n",
       "      <td>-1.301811</td>\n",
       "      <td>4</td>\n",
       "      <td>-0.510966</td>\n",
       "      <td>-6.492261</td>\n",
       "      <td>6.287199</td>\n",
       "      <td>-1.101294</td>\n",
       "    </tr>\n",
       "    <tr>\n",
       "      <th>1</th>\n",
       "      <td>-1.118740</td>\n",
       "      <td>1.197572</td>\n",
       "      <td>1.680080</td>\n",
       "      <td>4</td>\n",
       "      <td>4</td>\n",
       "      <td>0.615738</td>\n",
       "      <td>-0.603282</td>\n",
       "      <td>-0.248908</td>\n",
       "      <td>4</td>\n",
       "      <td>-0.722537</td>\n",
       "      <td>-19.981785</td>\n",
       "      <td>-1.644579</td>\n",
       "      <td>-0.236453</td>\n",
       "    </tr>\n",
       "    <tr>\n",
       "      <th>2</th>\n",
       "      <td>-0.621916</td>\n",
       "      <td>0.295003</td>\n",
       "      <td>-1.117813</td>\n",
       "      <td>4</td>\n",
       "      <td>4</td>\n",
       "      <td>0.080794</td>\n",
       "      <td>0.437369</td>\n",
       "      <td>-0.410893</td>\n",
       "      <td>2</td>\n",
       "      <td>3.051474</td>\n",
       "      <td>-0.792979</td>\n",
       "      <td>-1.324966</td>\n",
       "      <td>0.107270</td>\n",
       "    </tr>\n",
       "    <tr>\n",
       "      <th>3</th>\n",
       "      <td>0.868556</td>\n",
       "      <td>0.144575</td>\n",
       "      <td>0.747449</td>\n",
       "      <td>4</td>\n",
       "      <td>0</td>\n",
       "      <td>1.418155</td>\n",
       "      <td>0.437369</td>\n",
       "      <td>-1.382803</td>\n",
       "      <td>0</td>\n",
       "      <td>-1.500006</td>\n",
       "      <td>-0.745236</td>\n",
       "      <td>12.371624</td>\n",
       "      <td>0.472721</td>\n",
       "    </tr>\n",
       "    <tr>\n",
       "      <th>4</th>\n",
       "      <td>0.868556</td>\n",
       "      <td>-0.457138</td>\n",
       "      <td>-0.185182</td>\n",
       "      <td>3</td>\n",
       "      <td>6</td>\n",
       "      <td>1.239840</td>\n",
       "      <td>-1.297050</td>\n",
       "      <td>-0.410893</td>\n",
       "      <td>5</td>\n",
       "      <td>-0.725926</td>\n",
       "      <td>7.182299</td>\n",
       "      <td>-1.564695</td>\n",
       "      <td>-0.468103</td>\n",
       "    </tr>\n",
       "  </tbody>\n",
       "</table>\n",
       "</div>"
      ],
      "text/plain": [
       "   Temparature  Humidity  Moisture  Soil Type  Crop Type  Nitrogen  Potassium  \\\n",
       "0     1.365380  1.348000 -0.778675          1          8  1.150683  -0.950166   \n",
       "1    -1.118740  1.197572  1.680080          4          4  0.615738  -0.603282   \n",
       "2    -0.621916  0.295003 -1.117813          4          4  0.080794   0.437369   \n",
       "3     0.868556  0.144575  0.747449          4          0  1.418155   0.437369   \n",
       "4     0.868556 -0.457138 -0.185182          3          6  1.239840  -1.297050   \n",
       "\n",
       "   Phosphorous  Fertilizer Name  NPK_Ratio_N  NPK_Ratio_P  NPK_Ratio_K  \\\n",
       "0    -1.301811                4    -0.510966    -6.492261     6.287199   \n",
       "1    -0.248908                4    -0.722537   -19.981785    -1.644579   \n",
       "2    -0.410893                2     3.051474    -0.792979    -1.324966   \n",
       "3    -1.382803                0    -1.500006    -0.745236    12.371624   \n",
       "4    -0.410893                5    -0.725926     7.182299    -1.564695   \n",
       "\n",
       "   Total_Nutrients  \n",
       "0        -1.101294  \n",
       "1        -0.236453  \n",
       "2         0.107270  \n",
       "3         0.472721  \n",
       "4        -0.468103  "
      ]
     },
     "execution_count": 24,
     "metadata": {},
     "output_type": "execute_result"
    }
   ],
   "source": [
    "df['NPK_Ratio_N'] = df['Nitrogen'] / (df['Potassium'] + df['Phosphorous'] + 1e-6)\n",
    "df['NPK_Ratio_P'] = df['Phosphorous'] / (df['Nitrogen'] + df['Potassium'] + 1e-6)\n",
    "df['NPK_Ratio_K'] = df['Potassium'] / (df['Nitrogen'] + df['Phosphorous'] + 1e-6)\n",
    "df['Total_Nutrients'] = df['Nitrogen'] + df['Potassium'] + df['Phosphorous']\n",
    "\n",
    "df.head()"
   ]
  },
  {
   "cell_type": "code",
   "execution_count": 25,
   "id": "b26aacf7",
   "metadata": {
    "execution": {
     "iopub.execute_input": "2025-06-07T07:12:27.941387Z",
     "iopub.status.busy": "2025-06-07T07:12:27.941069Z",
     "iopub.status.idle": "2025-06-07T07:12:28.792551Z",
     "shell.execute_reply": "2025-06-07T07:12:28.791280Z"
    },
    "id": "lYdgEc6AaOng",
    "outputId": "27fe9695-dcd6-4b4c-b687-ba83caa21df8",
    "papermill": {
     "duration": 0.862817,
     "end_time": "2025-06-07T07:12:28.794089",
     "exception": false,
     "start_time": "2025-06-07T07:12:27.931272",
     "status": "completed"
    },
    "tags": []
   },
   "outputs": [
    {
     "name": "stdout",
     "output_type": "stream",
     "text": [
      "<class 'pandas.core.frame.DataFrame'>\n",
      "RangeIndex: 750000 entries, 0 to 749999\n",
      "Data columns (total 41 columns):\n",
      " #   Column                   Non-Null Count   Dtype  \n",
      "---  ------                   --------------   -----  \n",
      " 0   Temparature              750000 non-null  float64\n",
      " 1   Humidity                 750000 non-null  float64\n",
      " 2   Moisture                 750000 non-null  float64\n",
      " 3   Soil Type                750000 non-null  int64  \n",
      " 4   Crop Type                750000 non-null  int64  \n",
      " 5   Nitrogen                 750000 non-null  float64\n",
      " 6   Potassium                750000 non-null  float64\n",
      " 7   Phosphorous              750000 non-null  float64\n",
      " 8   Fertilizer Name          750000 non-null  int64  \n",
      " 9   NPK_Ratio_N              750000 non-null  float64\n",
      " 10  NPK_Ratio_P              750000 non-null  float64\n",
      " 11  NPK_Ratio_K              750000 non-null  float64\n",
      " 12  Total_Nutrients          750000 non-null  float64\n",
      " 13  Temp_Humidity_Index      750000 non-null  float64\n",
      " 14  Temparature              750000 non-null  float64\n",
      " 15  Humidity                 750000 non-null  float64\n",
      " 16  Moisture                 750000 non-null  float64\n",
      " 17  Nitrogen                 750000 non-null  float64\n",
      " 18  Potassium                750000 non-null  float64\n",
      " 19  Phosphorous              750000 non-null  float64\n",
      " 20  Temparature^2            750000 non-null  float64\n",
      " 21  Temparature Humidity     750000 non-null  float64\n",
      " 22  Temparature Moisture     750000 non-null  float64\n",
      " 23  Temparature Nitrogen     750000 non-null  float64\n",
      " 24  Temparature Potassium    750000 non-null  float64\n",
      " 25  Temparature Phosphorous  750000 non-null  float64\n",
      " 26  Humidity^2               750000 non-null  float64\n",
      " 27  Humidity Moisture        750000 non-null  float64\n",
      " 28  Humidity Nitrogen        750000 non-null  float64\n",
      " 29  Humidity Potassium       750000 non-null  float64\n",
      " 30  Humidity Phosphorous     750000 non-null  float64\n",
      " 31  Moisture^2               750000 non-null  float64\n",
      " 32  Moisture Nitrogen        750000 non-null  float64\n",
      " 33  Moisture Potassium       750000 non-null  float64\n",
      " 34  Moisture Phosphorous     750000 non-null  float64\n",
      " 35  Nitrogen^2               750000 non-null  float64\n",
      " 36  Nitrogen Potassium       750000 non-null  float64\n",
      " 37  Nitrogen Phosphorous     750000 non-null  float64\n",
      " 38  Potassium^2              750000 non-null  float64\n",
      " 39  Potassium Phosphorous    750000 non-null  float64\n",
      " 40  Phosphorous^2            750000 non-null  float64\n",
      "dtypes: float64(38), int64(3)\n",
      "memory usage: 234.6 MB\n"
     ]
    }
   ],
   "source": [
    "df['Temp_Humidity_Index'] = df['Temparature'] * df['Humidity']\n",
    "\n",
    "from sklearn.preprocessing import PolynomialFeatures\n",
    "poly = PolynomialFeatures(degree=2, include_bias=False)\n",
    "\n",
    "# Select features to create polynomial features from\n",
    "features_for_poly = df[['Temparature', 'Humidity', 'Moisture', 'Nitrogen', 'Potassium', 'Phosphorous']]\n",
    "\n",
    "# Fit and transform the selected features\n",
    "poly_features = poly.fit_transform(features_for_poly)\n",
    "\n",
    "# Get the names of the new features (optional but helpful)\n",
    "poly_feature_names = poly.get_feature_names_out(features_for_poly.columns)\n",
    "\n",
    "# Create a new DataFrame with the polynomial features\n",
    "df_poly = pd.DataFrame(poly_features, columns=poly_feature_names, index=df.index)\n",
    "\n",
    "# Concatenate the original DataFrame with the new polynomial features DataFrame\n",
    "df = pd.concat([df, df_poly], axis=1)\n",
    "\n",
    "df.head()\n",
    "df.info()"
   ]
  },
  {
   "cell_type": "code",
   "execution_count": 26,
   "id": "c324224e",
   "metadata": {
    "execution": {
     "iopub.execute_input": "2025-06-07T07:12:28.814782Z",
     "iopub.status.busy": "2025-06-07T07:12:28.813667Z",
     "iopub.status.idle": "2025-06-07T07:12:28.917307Z",
     "shell.execute_reply": "2025-06-07T07:12:28.916204Z"
    },
    "id": "4NiFPvfnayPF",
    "papermill": {
     "duration": 0.115651,
     "end_time": "2025-06-07T07:12:28.919129",
     "exception": false,
     "start_time": "2025-06-07T07:12:28.803478",
     "status": "completed"
    },
    "tags": []
   },
   "outputs": [],
   "source": [
    "from sklearn.model_selection import train_test_split"
   ]
  },
  {
   "cell_type": "code",
   "execution_count": 27,
   "id": "bc864319",
   "metadata": {
    "execution": {
     "iopub.execute_input": "2025-06-07T07:12:28.939871Z",
     "iopub.status.busy": "2025-06-07T07:12:28.939547Z",
     "iopub.status.idle": "2025-06-07T07:12:29.028964Z",
     "shell.execute_reply": "2025-06-07T07:12:29.028208Z"
    },
    "id": "T2rJBfsebAbv",
    "papermill": {
     "duration": 0.101098,
     "end_time": "2025-06-07T07:12:29.030578",
     "exception": false,
     "start_time": "2025-06-07T07:12:28.929480",
     "status": "completed"
    },
    "tags": []
   },
   "outputs": [],
   "source": [
    "X=df.drop(columns='Fertilizer Name')\n",
    "y=df['Fertilizer Name']"
   ]
  },
  {
   "cell_type": "code",
   "execution_count": 28,
   "id": "7f33c731",
   "metadata": {
    "execution": {
     "iopub.execute_input": "2025-06-07T07:12:29.049902Z",
     "iopub.status.busy": "2025-06-07T07:12:29.049570Z",
     "iopub.status.idle": "2025-06-07T07:12:29.881042Z",
     "shell.execute_reply": "2025-06-07T07:12:29.880172Z"
    },
    "id": "0LASAaPYbR0X",
    "papermill": {
     "duration": 0.843049,
     "end_time": "2025-06-07T07:12:29.882866",
     "exception": false,
     "start_time": "2025-06-07T07:12:29.039817",
     "status": "completed"
    },
    "tags": []
   },
   "outputs": [],
   "source": [
    "X_train,X_test,y_train,y_test=train_test_split(X,y,test_size=0.2,random_state=42,stratify=y)"
   ]
  },
  {
   "cell_type": "code",
   "execution_count": 29,
   "id": "b0ac66f4",
   "metadata": {
    "execution": {
     "iopub.execute_input": "2025-06-07T07:12:29.903932Z",
     "iopub.status.busy": "2025-06-07T07:12:29.903518Z",
     "iopub.status.idle": "2025-06-07T07:12:30.282139Z",
     "shell.execute_reply": "2025-06-07T07:12:30.281110Z"
    },
    "id": "ZE_AHXiwbf7u",
    "papermill": {
     "duration": 0.392017,
     "end_time": "2025-06-07T07:12:30.284686",
     "exception": false,
     "start_time": "2025-06-07T07:12:29.892669",
     "status": "completed"
    },
    "tags": []
   },
   "outputs": [],
   "source": [
    "from sklearn.ensemble import RandomForestClassifier"
   ]
  },
  {
   "cell_type": "code",
   "execution_count": 30,
   "id": "33e97fd4",
   "metadata": {
    "execution": {
     "iopub.execute_input": "2025-06-07T07:12:30.319424Z",
     "iopub.status.busy": "2025-06-07T07:12:30.319086Z",
     "iopub.status.idle": "2025-06-07T07:15:39.556910Z",
     "shell.execute_reply": "2025-06-07T07:15:39.556023Z"
    },
    "id": "5I3TeRoIb1QZ",
    "outputId": "1be2b9d4-a230-427d-dace-1a0a2c42653b",
    "papermill": {
     "duration": 189.267037,
     "end_time": "2025-06-07T07:15:39.568834",
     "exception": false,
     "start_time": "2025-06-07T07:12:30.301797",
     "status": "completed"
    },
    "tags": []
   },
   "outputs": [
    {
     "data": {
      "text/html": [
       "<style>#sk-container-id-1 {color: black;background-color: white;}#sk-container-id-1 pre{padding: 0;}#sk-container-id-1 div.sk-toggleable {background-color: white;}#sk-container-id-1 label.sk-toggleable__label {cursor: pointer;display: block;width: 100%;margin-bottom: 0;padding: 0.3em;box-sizing: border-box;text-align: center;}#sk-container-id-1 label.sk-toggleable__label-arrow:before {content: \"▸\";float: left;margin-right: 0.25em;color: #696969;}#sk-container-id-1 label.sk-toggleable__label-arrow:hover:before {color: black;}#sk-container-id-1 div.sk-estimator:hover label.sk-toggleable__label-arrow:before {color: black;}#sk-container-id-1 div.sk-toggleable__content {max-height: 0;max-width: 0;overflow: hidden;text-align: left;background-color: #f0f8ff;}#sk-container-id-1 div.sk-toggleable__content pre {margin: 0.2em;color: black;border-radius: 0.25em;background-color: #f0f8ff;}#sk-container-id-1 input.sk-toggleable__control:checked~div.sk-toggleable__content {max-height: 200px;max-width: 100%;overflow: auto;}#sk-container-id-1 input.sk-toggleable__control:checked~label.sk-toggleable__label-arrow:before {content: \"▾\";}#sk-container-id-1 div.sk-estimator input.sk-toggleable__control:checked~label.sk-toggleable__label {background-color: #d4ebff;}#sk-container-id-1 div.sk-label input.sk-toggleable__control:checked~label.sk-toggleable__label {background-color: #d4ebff;}#sk-container-id-1 input.sk-hidden--visually {border: 0;clip: rect(1px 1px 1px 1px);clip: rect(1px, 1px, 1px, 1px);height: 1px;margin: -1px;overflow: hidden;padding: 0;position: absolute;width: 1px;}#sk-container-id-1 div.sk-estimator {font-family: monospace;background-color: #f0f8ff;border: 1px dotted black;border-radius: 0.25em;box-sizing: border-box;margin-bottom: 0.5em;}#sk-container-id-1 div.sk-estimator:hover {background-color: #d4ebff;}#sk-container-id-1 div.sk-parallel-item::after {content: \"\";width: 100%;border-bottom: 1px solid gray;flex-grow: 1;}#sk-container-id-1 div.sk-label:hover label.sk-toggleable__label {background-color: #d4ebff;}#sk-container-id-1 div.sk-serial::before {content: \"\";position: absolute;border-left: 1px solid gray;box-sizing: border-box;top: 0;bottom: 0;left: 50%;z-index: 0;}#sk-container-id-1 div.sk-serial {display: flex;flex-direction: column;align-items: center;background-color: white;padding-right: 0.2em;padding-left: 0.2em;position: relative;}#sk-container-id-1 div.sk-item {position: relative;z-index: 1;}#sk-container-id-1 div.sk-parallel {display: flex;align-items: stretch;justify-content: center;background-color: white;position: relative;}#sk-container-id-1 div.sk-item::before, #sk-container-id-1 div.sk-parallel-item::before {content: \"\";position: absolute;border-left: 1px solid gray;box-sizing: border-box;top: 0;bottom: 0;left: 50%;z-index: -1;}#sk-container-id-1 div.sk-parallel-item {display: flex;flex-direction: column;z-index: 1;position: relative;background-color: white;}#sk-container-id-1 div.sk-parallel-item:first-child::after {align-self: flex-end;width: 50%;}#sk-container-id-1 div.sk-parallel-item:last-child::after {align-self: flex-start;width: 50%;}#sk-container-id-1 div.sk-parallel-item:only-child::after {width: 0;}#sk-container-id-1 div.sk-dashed-wrapped {border: 1px dashed gray;margin: 0 0.4em 0.5em 0.4em;box-sizing: border-box;padding-bottom: 0.4em;background-color: white;}#sk-container-id-1 div.sk-label label {font-family: monospace;font-weight: bold;display: inline-block;line-height: 1.2em;}#sk-container-id-1 div.sk-label-container {text-align: center;}#sk-container-id-1 div.sk-container {/* jupyter's `normalize.less` sets `[hidden] { display: none; }` but bootstrap.min.css set `[hidden] { display: none !important; }` so we also need the `!important` here to be able to override the default hidden behavior on the sphinx rendered scikit-learn.org. See: https://github.com/scikit-learn/scikit-learn/issues/21755 */display: inline-block !important;position: relative;}#sk-container-id-1 div.sk-text-repr-fallback {display: none;}</style><div id=\"sk-container-id-1\" class=\"sk-top-container\"><div class=\"sk-text-repr-fallback\"><pre>RandomForestClassifier(n_jobs=-1, random_state=42)</pre><b>In a Jupyter environment, please rerun this cell to show the HTML representation or trust the notebook. <br />On GitHub, the HTML representation is unable to render, please try loading this page with nbviewer.org.</b></div><div class=\"sk-container\" hidden><div class=\"sk-item\"><div class=\"sk-estimator sk-toggleable\"><input class=\"sk-toggleable__control sk-hidden--visually\" id=\"sk-estimator-id-1\" type=\"checkbox\" checked><label for=\"sk-estimator-id-1\" class=\"sk-toggleable__label sk-toggleable__label-arrow\">RandomForestClassifier</label><div class=\"sk-toggleable__content\"><pre>RandomForestClassifier(n_jobs=-1, random_state=42)</pre></div></div></div></div></div>"
      ],
      "text/plain": [
       "RandomForestClassifier(n_jobs=-1, random_state=42)"
      ]
     },
     "execution_count": 30,
     "metadata": {},
     "output_type": "execute_result"
    }
   ],
   "source": [
    "model_rf = RandomForestClassifier(n_estimators=100, random_state=42, n_jobs=-1) # n_jobs=-1 uses all CPU cores\n",
    "model_rf.fit(X_train, y_train)"
   ]
  },
  {
   "cell_type": "code",
   "execution_count": 31,
   "id": "f168f434",
   "metadata": {
    "execution": {
     "iopub.execute_input": "2025-06-07T07:15:39.590457Z",
     "iopub.status.busy": "2025-06-07T07:15:39.589470Z",
     "iopub.status.idle": "2025-06-07T07:15:44.842361Z",
     "shell.execute_reply": "2025-06-07T07:15:44.841341Z"
    },
    "id": "Naq2Z_IGb3rg",
    "outputId": "f55dba14-e7aa-454e-ba53-524ee2f960f4",
    "papermill": {
     "duration": 5.266079,
     "end_time": "2025-06-07T07:15:44.844614",
     "exception": false,
     "start_time": "2025-06-07T07:15:39.578535",
     "status": "completed"
    },
    "tags": []
   },
   "outputs": [
    {
     "name": "stdout",
     "output_type": "stream",
     "text": [
      "Accuracy: 0.1629\n",
      "\n",
      "Classification Report:\n",
      "               precision    recall  f1-score   support\n",
      "\n",
      "    10-26-26       0.17      0.20      0.18     22777\n",
      "    14-35-14       0.17      0.20      0.18     22887\n",
      "    17-17-17       0.17      0.19      0.18     22491\n",
      "       20-20       0.16      0.17      0.16     22178\n",
      "       28-28       0.16      0.16      0.16     22232\n",
      "         DAP       0.15      0.10      0.12     18972\n",
      "        Urea       0.15      0.09      0.11     18463\n",
      "\n",
      "    accuracy                           0.16    150000\n",
      "   macro avg       0.16      0.16      0.16    150000\n",
      "weighted avg       0.16      0.16      0.16    150000\n",
      "\n"
     ]
    },
    {
     "data": {
      "image/png": "[encoded data removed]",
      "text/plain": [
       "<Figure size 1000x800 with 2 Axes>"
      ]
     },
     "metadata": {},
     "output_type": "display_data"
    }
   ],
   "source": [
    "from sklearn.metrics import accuracy_score, classification_report, confusion_matrix\n",
    "import seaborn as sns\n",
    "import matplotlib.pyplot as plt\n",
    "\n",
    "y_pred = model_rf.predict(X_test)\n",
    "\n",
    "print(f\"Accuracy: {accuracy_score(y_test, y_pred):.4f}\")\n",
    "print(\"\\nClassification Report:\\n\", classification_report(y_test, y_pred, target_names=le.classes_))\n",
    "\n",
    "cm = confusion_matrix(y_test, y_pred)\n",
    "plt.figure(figsize=(10, 8))\n",
    "sns.heatmap(cm, annot=True, fmt='d', cmap='Blues', xticklabels=le.classes_, yticklabels=le.classes_)\n",
    "plt.xlabel('Predicted')\n",
    "plt.ylabel('True')\n",
    "plt.title('Confusion Matrix')\n",
    "plt.show()"
   ]
  },
  {
   "cell_type": "code",
   "execution_count": 32,
   "id": "5f79ee91",
   "metadata": {
    "execution": {
     "iopub.execute_input": "2025-06-07T07:15:44.870266Z",
     "iopub.status.busy": "2025-06-07T07:15:44.869665Z",
     "iopub.status.idle": "2025-06-07T07:15:45.143814Z",
     "shell.execute_reply": "2025-06-07T07:15:45.142716Z"
    },
    "id": "77sdbAZgFlsO",
    "papermill": {
     "duration": 0.288883,
     "end_time": "2025-06-07T07:15:45.145700",
     "exception": false,
     "start_time": "2025-06-07T07:15:44.856817",
     "status": "completed"
    },
    "tags": []
   },
   "outputs": [],
   "source": [
    "dft=pd.read_csv(\"/kaggle/input/playground-series-s5e6/test.csv\")"
   ]
  },
  {
   "cell_type": "code",
   "execution_count": 33,
   "id": "c9c1aab3",
   "metadata": {
    "execution": {
     "iopub.execute_input": "2025-06-07T07:15:45.170260Z",
     "iopub.status.busy": "2025-06-07T07:15:45.169511Z",
     "iopub.status.idle": "2025-06-07T07:15:45.180381Z",
     "shell.execute_reply": "2025-06-07T07:15:45.179621Z"
    },
    "papermill": {
     "duration": 0.024437,
     "end_time": "2025-06-07T07:15:45.181773",
     "exception": false,
     "start_time": "2025-06-07T07:15:45.157336",
     "status": "completed"
    },
    "tags": []
   },
   "outputs": [
    {
     "data": {
      "text/html": [
       "<div>\n",
       "<style scoped>\n",
       "    .dataframe tbody tr th:only-of-type {\n",
       "        vertical-align: middle;\n",
       "    }\n",
       "\n",
       "    .dataframe tbody tr th {\n",
       "        vertical-align: top;\n",
       "    }\n",
       "\n",
       "    .dataframe thead th {\n",
       "        text-align: right;\n",
       "    }\n",
       "</style>\n",
       "<table border=\"1\" class=\"dataframe\">\n",
       "  <thead>\n",
       "    <tr style=\"text-align: right;\">\n",
       "      <th></th>\n",
       "      <th>id</th>\n",
       "      <th>Temparature</th>\n",
       "      <th>Humidity</th>\n",
       "      <th>Moisture</th>\n",
       "      <th>Soil Type</th>\n",
       "      <th>Crop Type</th>\n",
       "      <th>Nitrogen</th>\n",
       "      <th>Potassium</th>\n",
       "      <th>Phosphorous</th>\n",
       "    </tr>\n",
       "  </thead>\n",
       "  <tbody>\n",
       "    <tr>\n",
       "      <th>0</th>\n",
       "      <td>750000</td>\n",
       "      <td>31</td>\n",
       "      <td>70</td>\n",
       "      <td>52</td>\n",
       "      <td>Sandy</td>\n",
       "      <td>Wheat</td>\n",
       "      <td>34</td>\n",
       "      <td>11</td>\n",
       "      <td>24</td>\n",
       "    </tr>\n",
       "    <tr>\n",
       "      <th>1</th>\n",
       "      <td>750001</td>\n",
       "      <td>27</td>\n",
       "      <td>62</td>\n",
       "      <td>45</td>\n",
       "      <td>Red</td>\n",
       "      <td>Sugarcane</td>\n",
       "      <td>30</td>\n",
       "      <td>14</td>\n",
       "      <td>15</td>\n",
       "    </tr>\n",
       "    <tr>\n",
       "      <th>2</th>\n",
       "      <td>750002</td>\n",
       "      <td>28</td>\n",
       "      <td>72</td>\n",
       "      <td>28</td>\n",
       "      <td>Clayey</td>\n",
       "      <td>Ground Nuts</td>\n",
       "      <td>14</td>\n",
       "      <td>15</td>\n",
       "      <td>4</td>\n",
       "    </tr>\n",
       "    <tr>\n",
       "      <th>3</th>\n",
       "      <td>750003</td>\n",
       "      <td>37</td>\n",
       "      <td>53</td>\n",
       "      <td>57</td>\n",
       "      <td>Black</td>\n",
       "      <td>Ground Nuts</td>\n",
       "      <td>18</td>\n",
       "      <td>17</td>\n",
       "      <td>36</td>\n",
       "    </tr>\n",
       "    <tr>\n",
       "      <th>4</th>\n",
       "      <td>750004</td>\n",
       "      <td>31</td>\n",
       "      <td>55</td>\n",
       "      <td>32</td>\n",
       "      <td>Red</td>\n",
       "      <td>Pulses</td>\n",
       "      <td>13</td>\n",
       "      <td>19</td>\n",
       "      <td>14</td>\n",
       "    </tr>\n",
       "  </tbody>\n",
       "</table>\n",
       "</div>"
      ],
      "text/plain": [
       "       id  Temparature  Humidity  Moisture Soil Type    Crop Type  Nitrogen  \\\n",
       "0  750000           31        70        52     Sandy        Wheat        34   \n",
       "1  750001           27        62        45       Red    Sugarcane        30   \n",
       "2  750002           28        72        28    Clayey  Ground Nuts        14   \n",
       "3  750003           37        53        57     Black  Ground Nuts        18   \n",
       "4  750004           31        55        32       Red       Pulses        13   \n",
       "\n",
       "   Potassium  Phosphorous  \n",
       "0         11           24  \n",
       "1         14           15  \n",
       "2         15            4  \n",
       "3         17           36  \n",
       "4         19           14  "
      ]
     },
     "execution_count": 33,
     "metadata": {},
     "output_type": "execute_result"
    }
   ],
   "source": [
    "dft.head()"
   ]
  },
  {
   "cell_type": "code",
   "execution_count": 34,
   "id": "92687419",
   "metadata": {
    "execution": {
     "iopub.execute_input": "2025-06-07T07:15:45.206036Z",
     "iopub.status.busy": "2025-06-07T07:15:45.205632Z",
     "iopub.status.idle": "2025-06-07T07:15:45.210411Z",
     "shell.execute_reply": "2025-06-07T07:15:45.209655Z"
    },
    "papermill": {
     "duration": 0.0182,
     "end_time": "2025-06-07T07:15:45.211668",
     "exception": false,
     "start_time": "2025-06-07T07:15:45.193468",
     "status": "completed"
    },
    "tags": []
   },
   "outputs": [],
   "source": [
    "id=dft['id']"
   ]
  },
  {
   "cell_type": "code",
   "execution_count": 35,
   "id": "969a21d3",
   "metadata": {
    "execution": {
     "iopub.execute_input": "2025-06-07T07:15:45.237237Z",
     "iopub.status.busy": "2025-06-07T07:15:45.236871Z",
     "iopub.status.idle": "2025-06-07T07:15:45.244052Z",
     "shell.execute_reply": "2025-06-07T07:15:45.243331Z"
    },
    "papermill": {
     "duration": 0.021294,
     "end_time": "2025-06-07T07:15:45.245345",
     "exception": false,
     "start_time": "2025-06-07T07:15:45.224051",
     "status": "completed"
    },
    "tags": []
   },
   "outputs": [
    {
     "data": {
      "text/plain": [
       "0         750000\n",
       "1         750001\n",
       "2         750002\n",
       "3         750003\n",
       "4         750004\n",
       "           ...  \n",
       "249995    999995\n",
       "249996    999996\n",
       "249997    999997\n",
       "249998    999998\n",
       "249999    999999\n",
       "Name: id, Length: 250000, dtype: int64"
      ]
     },
     "execution_count": 35,
     "metadata": {},
     "output_type": "execute_result"
    }
   ],
   "source": [
    "id"
   ]
  },
  {
   "cell_type": "code",
   "execution_count": 36,
   "id": "d1fc13fe",
   "metadata": {
    "execution": {
     "iopub.execute_input": "2025-06-07T07:15:45.270395Z",
     "iopub.status.busy": "2025-06-07T07:15:45.269995Z",
     "iopub.status.idle": "2025-06-07T07:15:45.278122Z",
     "shell.execute_reply": "2025-06-07T07:15:45.277233Z"
    },
    "papermill": {
     "duration": 0.02269,
     "end_time": "2025-06-07T07:15:45.279886",
     "exception": false,
     "start_time": "2025-06-07T07:15:45.257196",
     "status": "completed"
    },
    "tags": []
   },
   "outputs": [],
   "source": [
    "object_cols=dft.select_dtypes(include='object').columns"
   ]
  },
  {
   "cell_type": "code",
   "execution_count": 37,
   "id": "b9c1cbcd",
   "metadata": {
    "execution": {
     "iopub.execute_input": "2025-06-07T07:15:45.305587Z",
     "iopub.status.busy": "2025-06-07T07:15:45.304650Z",
     "iopub.status.idle": "2025-06-07T07:15:45.400868Z",
     "shell.execute_reply": "2025-06-07T07:15:45.399899Z"
    },
    "papermill": {
     "duration": 0.111034,
     "end_time": "2025-06-07T07:15:45.402848",
     "exception": false,
     "start_time": "2025-06-07T07:15:45.291814",
     "status": "completed"
    },
    "tags": []
   },
   "outputs": [],
   "source": [
    "for col in object_cols:\n",
    "  dft[col]=le.fit_transform(dft[col])"
   ]
  },
  {
   "cell_type": "code",
   "execution_count": 38,
   "id": "78330700",
   "metadata": {
    "execution": {
     "iopub.execute_input": "2025-06-07T07:15:45.429139Z",
     "iopub.status.busy": "2025-06-07T07:15:45.428756Z",
     "iopub.status.idle": "2025-06-07T07:15:45.475845Z",
     "shell.execute_reply": "2025-06-07T07:15:45.475007Z"
    },
    "papermill": {
     "duration": 0.062372,
     "end_time": "2025-06-07T07:15:45.477629",
     "exception": false,
     "start_time": "2025-06-07T07:15:45.415257",
     "status": "completed"
    },
    "tags": []
   },
   "outputs": [],
   "source": [
    "dft[numerical_features]=scaler.fit_transform(dft[numerical_features])"
   ]
  },
  {
   "cell_type": "code",
   "execution_count": 39,
   "id": "38716536",
   "metadata": {
    "execution": {
     "iopub.execute_input": "2025-06-07T07:15:45.503891Z",
     "iopub.status.busy": "2025-06-07T07:15:45.503155Z",
     "iopub.status.idle": "2025-06-07T07:15:45.528531Z",
     "shell.execute_reply": "2025-06-07T07:15:45.527505Z"
    },
    "papermill": {
     "duration": 0.040033,
     "end_time": "2025-06-07T07:15:45.530049",
     "exception": false,
     "start_time": "2025-06-07T07:15:45.490016",
     "status": "completed"
    },
    "tags": []
   },
   "outputs": [
    {
     "data": {
      "text/html": [
       "<div>\n",
       "<style scoped>\n",
       "    .dataframe tbody tr th:only-of-type {\n",
       "        vertical-align: middle;\n",
       "    }\n",
       "\n",
       "    .dataframe tbody tr th {\n",
       "        vertical-align: top;\n",
       "    }\n",
       "\n",
       "    .dataframe thead th {\n",
       "        text-align: right;\n",
       "    }\n",
       "</style>\n",
       "<table border=\"1\" class=\"dataframe\">\n",
       "  <thead>\n",
       "    <tr style=\"text-align: right;\">\n",
       "      <th></th>\n",
       "      <th>id</th>\n",
       "      <th>Temparature</th>\n",
       "      <th>Humidity</th>\n",
       "      <th>Moisture</th>\n",
       "      <th>Soil Type</th>\n",
       "      <th>Crop Type</th>\n",
       "      <th>Nitrogen</th>\n",
       "      <th>Potassium</th>\n",
       "      <th>Phosphorous</th>\n",
       "      <th>NPK_Ratio_N</th>\n",
       "      <th>NPK_Ratio_P</th>\n",
       "      <th>NPK_Ratio_K</th>\n",
       "      <th>Total_Nutrients</th>\n",
       "    </tr>\n",
       "  </thead>\n",
       "  <tbody>\n",
       "    <tr>\n",
       "      <th>0</th>\n",
       "      <td>750000</td>\n",
       "      <td>-0.122176</td>\n",
       "      <td>1.349366</td>\n",
       "      <td>0.577417</td>\n",
       "      <td>4</td>\n",
       "      <td>10</td>\n",
       "      <td>0.968300</td>\n",
       "      <td>0.262229</td>\n",
       "      <td>0.232451</td>\n",
       "      <td>1.957422</td>\n",
       "      <td>0.188903</td>\n",
       "      <td>0.218387</td>\n",
       "      <td>1.462980</td>\n",
       "    </tr>\n",
       "    <tr>\n",
       "      <th>1</th>\n",
       "      <td>750001</td>\n",
       "      <td>-1.116191</td>\n",
       "      <td>0.143886</td>\n",
       "      <td>-0.016149</td>\n",
       "      <td>3</td>\n",
       "      <td>8</td>\n",
       "      <td>0.611664</td>\n",
       "      <td>0.782444</td>\n",
       "      <td>-0.494478</td>\n",
       "      <td>2.124081</td>\n",
       "      <td>-0.354691</td>\n",
       "      <td>6.676878</td>\n",
       "      <td>0.899630</td>\n",
       "    </tr>\n",
       "    <tr>\n",
       "      <th>2</th>\n",
       "      <td>750002</td>\n",
       "      <td>-0.867687</td>\n",
       "      <td>1.650737</td>\n",
       "      <td>-1.457664</td>\n",
       "      <td>1</td>\n",
       "      <td>2</td>\n",
       "      <td>-0.814877</td>\n",
       "      <td>0.955849</td>\n",
       "      <td>-1.382948</td>\n",
       "      <td>1.907942</td>\n",
       "      <td>-9.810053</td>\n",
       "      <td>-0.434907</td>\n",
       "      <td>-1.241976</td>\n",
       "    </tr>\n",
       "    <tr>\n",
       "      <th>3</th>\n",
       "      <td>750003</td>\n",
       "      <td>1.368846</td>\n",
       "      <td>-1.212279</td>\n",
       "      <td>1.001392</td>\n",
       "      <td>0</td>\n",
       "      <td>2</td>\n",
       "      <td>-0.458242</td>\n",
       "      <td>1.302659</td>\n",
       "      <td>1.201690</td>\n",
       "      <td>-0.182978</td>\n",
       "      <td>1.423099</td>\n",
       "      <td>1.752183</td>\n",
       "      <td>2.046107</td>\n",
       "    </tr>\n",
       "    <tr>\n",
       "      <th>4</th>\n",
       "      <td>750004</td>\n",
       "      <td>-0.122176</td>\n",
       "      <td>-0.910909</td>\n",
       "      <td>-1.118484</td>\n",
       "      <td>3</td>\n",
       "      <td>7</td>\n",
       "      <td>-0.904036</td>\n",
       "      <td>1.649469</td>\n",
       "      <td>-0.575248</td>\n",
       "      <td>-0.841574</td>\n",
       "      <td>-0.771696</td>\n",
       "      <td>-1.115046</td>\n",
       "      <td>0.170184</td>\n",
       "    </tr>\n",
       "  </tbody>\n",
       "</table>\n",
       "</div>"
      ],
      "text/plain": [
       "       id  Temparature  Humidity  Moisture  Soil Type  Crop Type  Nitrogen  \\\n",
       "0  750000    -0.122176  1.349366  0.577417          4         10  0.968300   \n",
       "1  750001    -1.116191  0.143886 -0.016149          3          8  0.611664   \n",
       "2  750002    -0.867687  1.650737 -1.457664          1          2 -0.814877   \n",
       "3  750003     1.368846 -1.212279  1.001392          0          2 -0.458242   \n",
       "4  750004    -0.122176 -0.910909 -1.118484          3          7 -0.904036   \n",
       "\n",
       "   Potassium  Phosphorous  NPK_Ratio_N  NPK_Ratio_P  NPK_Ratio_K  \\\n",
       "0   0.262229     0.232451     1.957422     0.188903     0.218387   \n",
       "1   0.782444    -0.494478     2.124081    -0.354691     6.676878   \n",
       "2   0.955849    -1.382948     1.907942    -9.810053    -0.434907   \n",
       "3   1.302659     1.201690    -0.182978     1.423099     1.752183   \n",
       "4   1.649469    -0.575248    -0.841574    -0.771696    -1.115046   \n",
       "\n",
       "   Total_Nutrients  \n",
       "0         1.462980  \n",
       "1         0.899630  \n",
       "2        -1.241976  \n",
       "3         2.046107  \n",
       "4         0.170184  "
      ]
     },
     "execution_count": 39,
     "metadata": {},
     "output_type": "execute_result"
    }
   ],
   "source": [
    "dft['NPK_Ratio_N'] = dft['Nitrogen'] / (dft['Potassium'] + dft['Phosphorous'] + 1e-6)\n",
    "dft['NPK_Ratio_P'] = dft['Phosphorous'] / (dft['Nitrogen'] + dft['Potassium'] + 1e-6)\n",
    "dft['NPK_Ratio_K'] = dft['Potassium'] / (dft['Nitrogen'] + dft['Phosphorous'] + 1e-6)\n",
    "dft['Total_Nutrients'] = dft['Nitrogen'] + dft['Potassium'] + dft['Phosphorous']\n",
    "\n",
    "dft.head()"
   ]
  },
  {
   "cell_type": "code",
   "execution_count": 40,
   "id": "52c4d333",
   "metadata": {
    "execution": {
     "iopub.execute_input": "2025-06-07T07:15:45.555510Z",
     "iopub.status.busy": "2025-06-07T07:15:45.554936Z",
     "iopub.status.idle": "2025-06-07T07:15:45.861481Z",
     "shell.execute_reply": "2025-06-07T07:15:45.860464Z"
    },
    "papermill": {
     "duration": 0.320824,
     "end_time": "2025-06-07T07:15:45.863178",
     "exception": false,
     "start_time": "2025-06-07T07:15:45.542354",
     "status": "completed"
    },
    "tags": []
   },
   "outputs": [
    {
     "name": "stdout",
     "output_type": "stream",
     "text": [
      "<class 'pandas.core.frame.DataFrame'>\n",
      "RangeIndex: 250000 entries, 0 to 249999\n",
      "Data columns (total 14 columns):\n",
      " #   Column               Non-Null Count   Dtype  \n",
      "---  ------               --------------   -----  \n",
      " 0   id                   250000 non-null  int64  \n",
      " 1   Temparature          250000 non-null  float64\n",
      " 2   Humidity             250000 non-null  float64\n",
      " 3   Moisture             250000 non-null  float64\n",
      " 4   Soil Type            250000 non-null  int64  \n",
      " 5   Crop Type            250000 non-null  int64  \n",
      " 6   Nitrogen             250000 non-null  float64\n",
      " 7   Potassium            250000 non-null  float64\n",
      " 8   Phosphorous          250000 non-null  float64\n",
      " 9   NPK_Ratio_N          250000 non-null  float64\n",
      " 10  NPK_Ratio_P          250000 non-null  float64\n",
      " 11  NPK_Ratio_K          250000 non-null  float64\n",
      " 12  Total_Nutrients      250000 non-null  float64\n",
      " 13  Temp_Humidity_Index  250000 non-null  float64\n",
      "dtypes: float64(11), int64(3)\n",
      "memory usage: 26.7 MB\n"
     ]
    }
   ],
   "source": [
    "dft['Temp_Humidity_Index'] = dft['Temparature'] * dft['Humidity']\n",
    "\n",
    "from sklearn.preprocessing import PolynomialFeatures\n",
    "poly = PolynomialFeatures(degree=2, include_bias=False)\n",
    "\n",
    "# Select features to create polynomial features from\n",
    "features_for_polyt = dft[['Temparature', 'Humidity', 'Moisture', 'Nitrogen', 'Potassium', 'Phosphorous']]\n",
    "\n",
    "# Fit and transform the selected features\n",
    "poly_featurest = poly.fit_transform(features_for_polyt)\n",
    "\n",
    "# Get the names of the new features (optional but helpful)\n",
    "poly_feature_namest = poly.get_feature_names_out(features_for_polyt.columns)\n",
    "\n",
    "# Create a new DataFrame with the polynomial features\n",
    "dft_poly = pd.DataFrame(poly_featurest, columns=poly_feature_namest, index=dft.index)\n",
    "\n",
    "# Concatenate the original DataFrame with the new polynomial features DataFrame\n",
    "df = pd.concat([dft, dft_poly], axis=1)\n",
    "\n",
    "dft.head()\n",
    "dft.info()"
   ]
  },
  {
   "cell_type": "code",
   "execution_count": 41,
   "id": "5898fcf3",
   "metadata": {
    "execution": {
     "iopub.execute_input": "2025-06-07T07:15:45.886831Z",
     "iopub.status.busy": "2025-06-07T07:15:45.886441Z",
     "iopub.status.idle": "2025-06-07T07:15:45.902062Z",
     "shell.execute_reply": "2025-06-07T07:15:45.901318Z"
    },
    "papermill": {
     "duration": 0.02882,
     "end_time": "2025-06-07T07:15:45.903442",
     "exception": false,
     "start_time": "2025-06-07T07:15:45.874622",
     "status": "completed"
    },
    "tags": []
   },
   "outputs": [],
   "source": [
    "dft_features = dft.drop(columns=['id'])"
   ]
  },
  {
   "cell_type": "code",
   "execution_count": 42,
   "id": "12782a21",
   "metadata": {
    "execution": {
     "iopub.execute_input": "2025-06-07T07:15:45.926960Z",
     "iopub.status.busy": "2025-06-07T07:15:45.926607Z",
     "iopub.status.idle": "2025-06-07T07:15:45.930747Z",
     "shell.execute_reply": "2025-06-07T07:15:45.929981Z"
    },
    "papermill": {
     "duration": 0.017212,
     "end_time": "2025-06-07T07:15:45.932028",
     "exception": false,
     "start_time": "2025-06-07T07:15:45.914816",
     "status": "completed"
    },
    "tags": []
   },
   "outputs": [],
   "source": [
    "train_cols = X_train.columns"
   ]
  },
  {
   "cell_type": "code",
   "execution_count": 43,
   "id": "72f60cf8",
   "metadata": {
    "execution": {
     "iopub.execute_input": "2025-06-07T07:15:45.955267Z",
     "iopub.status.busy": "2025-06-07T07:15:45.954999Z",
     "iopub.status.idle": "2025-06-07T07:15:46.003219Z",
     "shell.execute_reply": "2025-06-07T07:15:46.002428Z"
    },
    "papermill": {
     "duration": 0.061728,
     "end_time": "2025-06-07T07:15:46.004914",
     "exception": false,
     "start_time": "2025-06-07T07:15:45.943186",
     "status": "completed"
    },
    "tags": []
   },
   "outputs": [],
   "source": [
    "dft_aligned = dft_features.reindex(columns=train_cols, fill_value=0) "
   ]
  },
  {
   "cell_type": "code",
   "execution_count": 44,
   "id": "3a4ee7b8",
   "metadata": {
    "execution": {
     "iopub.execute_input": "2025-06-07T07:15:46.029163Z",
     "iopub.status.busy": "2025-06-07T07:15:46.028558Z",
     "iopub.status.idle": "2025-06-07T07:15:49.108144Z",
     "shell.execute_reply": "2025-06-07T07:15:49.107100Z"
    },
    "papermill": {
     "duration": 3.093366,
     "end_time": "2025-06-07T07:15:49.109911",
     "exception": false,
     "start_time": "2025-06-07T07:15:46.016545",
     "status": "completed"
    },
    "tags": []
   },
   "outputs": [],
   "source": [
    "y_pred_proba = model_rf.predict_proba(dft_aligned)"
   ]
  },
  {
   "cell_type": "code",
   "execution_count": 45,
   "id": "90cced55",
   "metadata": {
    "execution": {
     "iopub.execute_input": "2025-06-07T07:15:49.134166Z",
     "iopub.status.busy": "2025-06-07T07:15:49.133854Z",
     "iopub.status.idle": "2025-06-07T07:15:49.139955Z",
     "shell.execute_reply": "2025-06-07T07:15:49.139184Z"
    },
    "papermill": {
     "duration": 0.019713,
     "end_time": "2025-06-07T07:15:49.141235",
     "exception": false,
     "start_time": "2025-06-07T07:15:49.121522",
     "status": "completed"
    },
    "tags": []
   },
   "outputs": [
    {
     "data": {
      "text/plain": [
       "array([[0.14, 0.16, 0.19, ..., 0.12, 0.16, 0.13],\n",
       "       [0.22, 0.18, 0.17, ..., 0.11, 0.17, 0.06],\n",
       "       [0.2 , 0.14, 0.11, ..., 0.15, 0.19, 0.11],\n",
       "       ...,\n",
       "       [0.15, 0.17, 0.15, ..., 0.15, 0.16, 0.1 ],\n",
       "       [0.14, 0.18, 0.09, ..., 0.16, 0.18, 0.14],\n",
       "       [0.12, 0.18, 0.08, ..., 0.21, 0.12, 0.13]])"
      ]
     },
     "execution_count": 45,
     "metadata": {},
     "output_type": "execute_result"
    }
   ],
   "source": [
    "y_pred_proba"
   ]
  },
  {
   "cell_type": "code",
   "execution_count": 46,
   "id": "8d08453a",
   "metadata": {
    "execution": {
     "iopub.execute_input": "2025-06-07T07:15:49.165167Z",
     "iopub.status.busy": "2025-06-07T07:15:49.164883Z",
     "iopub.status.idle": "2025-06-07T07:15:49.168934Z",
     "shell.execute_reply": "2025-06-07T07:15:49.168208Z"
    },
    "papermill": {
     "duration": 0.017584,
     "end_time": "2025-06-07T07:15:49.170417",
     "exception": false,
     "start_time": "2025-06-07T07:15:49.152833",
     "status": "completed"
    },
    "tags": []
   },
   "outputs": [],
   "source": [
    "manual_fertilizer_mapping = {\n",
    "    0: '10-26-26',\n",
    "    1: '14-35-14',\n",
    "    2: '17-17-17',\n",
    "    3: '28-28',\n",
    "    4: '20-20',\n",
    "    5: 'DAP',\n",
    "    6: 'Urea'\n",
    "}"
   ]
  },
  {
   "cell_type": "code",
   "execution_count": 47,
   "id": "5caf29ae",
   "metadata": {
    "execution": {
     "iopub.execute_input": "2025-06-07T07:15:49.194616Z",
     "iopub.status.busy": "2025-06-07T07:15:49.194320Z",
     "iopub.status.idle": "2025-06-07T07:15:49.199004Z",
     "shell.execute_reply": "2025-06-07T07:15:49.198267Z"
    },
    "papermill": {
     "duration": 0.018253,
     "end_time": "2025-06-07T07:15:49.200254",
     "exception": false,
     "start_time": "2025-06-07T07:15:49.182001",
     "status": "completed"
    },
    "tags": []
   },
   "outputs": [],
   "source": [
    "# Function to get top N predicted fertilizer names using the manual mapping\n",
    "def get_top_n_fertilizers_with_mapping(probabilities, mapping, n=3):\n",
    "    # Get the indices that would sort the probabilities in descending order\n",
    "    sorted_indices = probabilities.argsort()[::-1]\n",
    "    # Get the top N indices\n",
    "    top_n_indices = sorted_indices[:n]\n",
    "    # Get the corresponding fertilizer names from the mapping\n",
    "    top_n_labels = [mapping[i] for i in top_n_indices]\n",
    "    # Join the labels with space\n",
    "    return \" \".join(top_n_labels)"
   ]
  },
  {
   "cell_type": "code",
   "execution_count": 48,
   "id": "941652f4",
   "metadata": {
    "execution": {
     "iopub.execute_input": "2025-06-07T07:15:49.223771Z",
     "iopub.status.busy": "2025-06-07T07:15:49.223412Z",
     "iopub.status.idle": "2025-06-07T07:15:50.429491Z",
     "shell.execute_reply": "2025-06-07T07:15:50.428496Z"
    },
    "papermill": {
     "duration": 1.21997,
     "end_time": "2025-06-07T07:15:50.431356",
     "exception": false,
     "start_time": "2025-06-07T07:15:49.211386",
     "status": "completed"
    },
    "tags": []
   },
   "outputs": [
    {
     "name": "stdout",
     "output_type": "stream",
     "text": [
      "Submission file created successfully: submission.csv\n"
     ]
    }
   ],
   "source": [
    "predicted_fertilizers = [get_top_n_fertilizers_with_mapping(row, manual_fertilizer_mapping, n=3) for row in y_pred_proba]\n",
    "\n",
    "submission_df = pd.DataFrame({'id': id, 'Fertilizer Name': predicted_fertilizers})\n",
    "\n",
    "submission_df.to_csv('submissiono.csv', index=False)\n",
    "\n",
    "print(\"Submission file created successfully: submission.csv\")"
   ]
  },
  {
   "cell_type": "code",
   "execution_count": null,
   "id": "cf4cecec",
   "metadata": {
    "papermill": {
     "duration": 0.011633,
     "end_time": "2025-06-07T07:15:50.455622",
     "exception": false,
     "start_time": "2025-06-07T07:15:50.443989",
     "status": "completed"
    },
    "tags": []
   },
   "outputs": [],
   "source": []
  }
 ],
 "metadata": {
  "accelerator": "GPU",
  "colab": {
   "gpuType": "T4",
   "provenance": []
  },
  "kaggle": {
   "accelerator": "none",
   "dataSources": [
    {
     "databundleVersionId": 12184666,
     "sourceId": 91717,
     "sourceType": "competition"
    }
   ],
   "dockerImageVersionId": 31040,
   "isGpuEnabled": false,
   "isInternetEnabled": true,
   "language": "python",
   "sourceType": "notebook"
  },
  "kernelspec": {
   "display_name": "Python 3",
   "language": "python",
   "name": "python3"
  },
  "language_info": {
   "codemirror_mode": {
    "name": "ipython",
    "version": 3
   },
   "file_extension": ".py",
   "mimetype": "text/x-python",
   "name": "python",
   "nbconvert_exporter": "python",
   "pygments_lexer": "ipython3",
   "version": "3.11.11"
  },
  "papermill": {
   "default_parameters": {},
   "duration": 215.98448,
   "end_time": "2025-06-07T07:15:52.092996",
   "environment_variables": {},
   "exception": null,
   "input_path": "__notebook__.ipynb",
   "output_path": "__notebook__.ipynb",
   "parameters": {},
   "start_time": "2025-06-07T07:12:16.108516",
   "version": "2.6.0"
  }
 },
 "nbformat": 4,
 "nbformat_minor": 5
}
