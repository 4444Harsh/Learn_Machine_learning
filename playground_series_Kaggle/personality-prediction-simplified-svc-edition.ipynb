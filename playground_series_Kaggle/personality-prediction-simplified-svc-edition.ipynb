{
 "cells": [
  {
   "cell_type": "markdown",
   "id": "ea42d0dc",
   "metadata": {
    "papermill": {
     "duration": 0.007191,
     "end_time": "2025-07-06T13:07:57.918105",
     "exception": false,
     "start_time": "2025-07-06T13:07:57.910914",
     "status": "completed"
    },
    "tags": []
   },
   "source": [
    "# Imports and setup"
   ]
  },
  {
   "cell_type": "code",
   "execution_count": 1,
   "id": "eafbb9fb",
   "metadata": {
    "execution": {
     "iopub.execute_input": "2025-07-06T13:07:57.932398Z",
     "iopub.status.busy": "2025-07-06T13:07:57.932081Z",
     "iopub.status.idle": "2025-07-06T13:08:01.973899Z",
     "shell.execute_reply": "2025-07-06T13:08:01.973050Z"
    },
    "papermill": {
     "duration": 4.051373,
     "end_time": "2025-07-06T13:08:01.976063",
     "exception": false,
     "start_time": "2025-07-06T13:07:57.924690",
     "status": "completed"
    },
    "tags": []
   },
   "outputs": [],
   "source": [
    "# Import essential libraries\n",
    "import pandas as pd\n",
    "import numpy as np\n",
    "import matplotlib.pyplot as plt\n",
    "import seaborn as sns\n",
    "from sklearn.svm import SVC\n",
    "from sklearn.preprocessing import StandardScaler, LabelEncoder\n",
    "from sklearn.model_selection import train_test_split\n",
    "from sklearn.metrics import accuracy_score, classification_report, confusion_matrix\n"
   ]
  },
  {
   "cell_type": "code",
   "execution_count": 2,
   "id": "7d7ad8dd",
   "metadata": {
    "execution": {
     "iopub.execute_input": "2025-07-06T13:08:01.992461Z",
     "iopub.status.busy": "2025-07-06T13:08:01.991597Z",
     "iopub.status.idle": "2025-07-06T13:08:02.001041Z",
     "shell.execute_reply": "2025-07-06T13:08:01.999971Z"
    },
    "papermill": {
     "duration": 0.018139,
     "end_time": "2025-07-06T13:08:02.002499",
     "exception": false,
     "start_time": "2025-07-06T13:08:01.984360",
     "status": "completed"
    },
    "tags": []
   },
   "outputs": [
    {
     "name": "stderr",
     "output_type": "stream",
     "text": [
      "/tmp/ipykernel_13/3391195516.py:2: MatplotlibDeprecationWarning: The seaborn styles shipped by Matplotlib are deprecated since 3.6, as they no longer correspond to the styles shipped by seaborn. However, they will remain available as 'seaborn-v0_8-<style>'. Alternatively, directly use the seaborn API instead.\n",
      "  plt.style.use('seaborn')\n"
     ]
    }
   ],
   "source": [
    "# Set visual style\n",
    "plt.style.use('seaborn')\n",
    "sns.set_palette('viridis')"
   ]
  },
  {
   "cell_type": "markdown",
   "id": "4fc9b79b",
   "metadata": {
    "papermill": {
     "duration": 0.005932,
     "end_time": "2025-07-06T13:08:02.015210",
     "exception": false,
     "start_time": "2025-07-06T13:08:02.009278",
     "status": "completed"
    },
    "tags": []
   },
   "source": [
    "# Load Data"
   ]
  },
  {
   "cell_type": "code",
   "execution_count": 3,
   "id": "3c0a3867",
   "metadata": {
    "execution": {
     "iopub.execute_input": "2025-07-06T13:08:02.029272Z",
     "iopub.status.busy": "2025-07-06T13:08:02.028612Z",
     "iopub.status.idle": "2025-07-06T13:08:02.093241Z",
     "shell.execute_reply": "2025-07-06T13:08:02.092383Z"
    },
    "papermill": {
     "duration": 0.073431,
     "end_time": "2025-07-06T13:08:02.094892",
     "exception": false,
     "start_time": "2025-07-06T13:08:02.021461",
     "status": "completed"
    },
    "tags": []
   },
   "outputs": [],
   "source": [
    "train = pd.read_csv('/kaggle/input/playground-series-s5e7/train.csv')\n",
    "test = pd.read_csv('/kaggle/input/playground-series-s5e7/test.csv')\n"
   ]
  },
  {
   "cell_type": "markdown",
   "id": "5d652bca",
   "metadata": {
    "papermill": {
     "duration": 0.005826,
     "end_time": "2025-07-06T13:08:02.107559",
     "exception": false,
     "start_time": "2025-07-06T13:08:02.101733",
     "status": "completed"
    },
    "tags": []
   },
   "source": [
    "## Data preview"
   ]
  },
  {
   "cell_type": "code",
   "execution_count": 4,
   "id": "560e1ba2",
   "metadata": {
    "execution": {
     "iopub.execute_input": "2025-07-06T13:08:02.121121Z",
     "iopub.status.busy": "2025-07-06T13:08:02.120414Z",
     "iopub.status.idle": "2025-07-06T13:08:02.150872Z",
     "shell.execute_reply": "2025-07-06T13:08:02.150066Z"
    },
    "papermill": {
     "duration": 0.03892,
     "end_time": "2025-07-06T13:08:02.152348",
     "exception": false,
     "start_time": "2025-07-06T13:08:02.113428",
     "status": "completed"
    },
    "tags": []
   },
   "outputs": [
    {
     "name": "stderr",
     "output_type": "stream",
     "text": [
      "/usr/local/lib/python3.11/dist-packages/pandas/io/formats/format.py:1458: RuntimeWarning: invalid value encountered in greater\n",
      "  has_large_values = (abs_vals > 1e6).any()\n",
      "/usr/local/lib/python3.11/dist-packages/pandas/io/formats/format.py:1459: RuntimeWarning: invalid value encountered in less\n",
      "  has_small_values = ((abs_vals < 10 ** (-self.digits)) & (abs_vals > 0)).any()\n",
      "/usr/local/lib/python3.11/dist-packages/pandas/io/formats/format.py:1459: RuntimeWarning: invalid value encountered in greater\n",
      "  has_small_values = ((abs_vals < 10 ** (-self.digits)) & (abs_vals > 0)).any()\n"
     ]
    },
    {
     "data": {
      "text/html": [
       "<div>\n",
       "<style scoped>\n",
       "    .dataframe tbody tr th:only-of-type {\n",
       "        vertical-align: middle;\n",
       "    }\n",
       "\n",
       "    .dataframe tbody tr th {\n",
       "        vertical-align: top;\n",
       "    }\n",
       "\n",
       "    .dataframe thead th {\n",
       "        text-align: right;\n",
       "    }\n",
       "</style>\n",
       "<table border=\"1\" class=\"dataframe\">\n",
       "  <thead>\n",
       "    <tr style=\"text-align: right;\">\n",
       "      <th></th>\n",
       "      <th>id</th>\n",
       "      <th>Time_spent_Alone</th>\n",
       "      <th>Stage_fear</th>\n",
       "      <th>Social_event_attendance</th>\n",
       "      <th>Going_outside</th>\n",
       "      <th>Drained_after_socializing</th>\n",
       "      <th>Friends_circle_size</th>\n",
       "      <th>Post_frequency</th>\n",
       "      <th>Personality</th>\n",
       "    </tr>\n",
       "  </thead>\n",
       "  <tbody>\n",
       "    <tr>\n",
       "      <th>0</th>\n",
       "      <td>0</td>\n",
       "      <td>0.0</td>\n",
       "      <td>No</td>\n",
       "      <td>6.0</td>\n",
       "      <td>4.0</td>\n",
       "      <td>No</td>\n",
       "      <td>15.0</td>\n",
       "      <td>5.0</td>\n",
       "      <td>Extrovert</td>\n",
       "    </tr>\n",
       "    <tr>\n",
       "      <th>1</th>\n",
       "      <td>1</td>\n",
       "      <td>1.0</td>\n",
       "      <td>No</td>\n",
       "      <td>7.0</td>\n",
       "      <td>3.0</td>\n",
       "      <td>No</td>\n",
       "      <td>10.0</td>\n",
       "      <td>8.0</td>\n",
       "      <td>Extrovert</td>\n",
       "    </tr>\n",
       "    <tr>\n",
       "      <th>2</th>\n",
       "      <td>2</td>\n",
       "      <td>6.0</td>\n",
       "      <td>Yes</td>\n",
       "      <td>1.0</td>\n",
       "      <td>0.0</td>\n",
       "      <td>NaN</td>\n",
       "      <td>3.0</td>\n",
       "      <td>0.0</td>\n",
       "      <td>Introvert</td>\n",
       "    </tr>\n",
       "    <tr>\n",
       "      <th>3</th>\n",
       "      <td>3</td>\n",
       "      <td>3.0</td>\n",
       "      <td>No</td>\n",
       "      <td>7.0</td>\n",
       "      <td>3.0</td>\n",
       "      <td>No</td>\n",
       "      <td>11.0</td>\n",
       "      <td>5.0</td>\n",
       "      <td>Extrovert</td>\n",
       "    </tr>\n",
       "    <tr>\n",
       "      <th>4</th>\n",
       "      <td>4</td>\n",
       "      <td>1.0</td>\n",
       "      <td>No</td>\n",
       "      <td>4.0</td>\n",
       "      <td>4.0</td>\n",
       "      <td>No</td>\n",
       "      <td>13.0</td>\n",
       "      <td>NaN</td>\n",
       "      <td>Extrovert</td>\n",
       "    </tr>\n",
       "  </tbody>\n",
       "</table>\n",
       "</div>"
      ],
      "text/plain": [
       "   id  Time_spent_Alone Stage_fear  Social_event_attendance  Going_outside  \\\n",
       "0   0               0.0         No                      6.0            4.0   \n",
       "1   1               1.0         No                      7.0            3.0   \n",
       "2   2               6.0        Yes                      1.0            0.0   \n",
       "3   3               3.0         No                      7.0            3.0   \n",
       "4   4               1.0         No                      4.0            4.0   \n",
       "\n",
       "  Drained_after_socializing  Friends_circle_size  Post_frequency Personality  \n",
       "0                        No                 15.0             5.0   Extrovert  \n",
       "1                        No                 10.0             8.0   Extrovert  \n",
       "2                       NaN                  3.0             0.0   Introvert  \n",
       "3                        No                 11.0             5.0   Extrovert  \n",
       "4                        No                 13.0             NaN   Extrovert  "
      ]
     },
     "execution_count": 4,
     "metadata": {},
     "output_type": "execute_result"
    }
   ],
   "source": [
    "train.head()"
   ]
  },
  {
   "cell_type": "code",
   "execution_count": 5,
   "id": "b1cf2dcd",
   "metadata": {
    "execution": {
     "iopub.execute_input": "2025-07-06T13:08:02.166819Z",
     "iopub.status.busy": "2025-07-06T13:08:02.166514Z",
     "iopub.status.idle": "2025-07-06T13:08:02.172032Z",
     "shell.execute_reply": "2025-07-06T13:08:02.171176Z"
    },
    "papermill": {
     "duration": 0.014324,
     "end_time": "2025-07-06T13:08:02.173325",
     "exception": false,
     "start_time": "2025-07-06T13:08:02.159001",
     "status": "completed"
    },
    "tags": []
   },
   "outputs": [
    {
     "data": {
      "text/plain": [
       "(18524, 9)"
      ]
     },
     "execution_count": 5,
     "metadata": {},
     "output_type": "execute_result"
    }
   ],
   "source": [
    "train.shape"
   ]
  },
  {
   "cell_type": "code",
   "execution_count": 6,
   "id": "17133620",
   "metadata": {
    "execution": {
     "iopub.execute_input": "2025-07-06T13:08:02.187847Z",
     "iopub.status.busy": "2025-07-06T13:08:02.187575Z",
     "iopub.status.idle": "2025-07-06T13:08:02.213395Z",
     "shell.execute_reply": "2025-07-06T13:08:02.212265Z"
    },
    "papermill": {
     "duration": 0.034876,
     "end_time": "2025-07-06T13:08:02.215009",
     "exception": false,
     "start_time": "2025-07-06T13:08:02.180133",
     "status": "completed"
    },
    "tags": []
   },
   "outputs": [
    {
     "name": "stdout",
     "output_type": "stream",
     "text": [
      "<class 'pandas.core.frame.DataFrame'>\n",
      "RangeIndex: 18524 entries, 0 to 18523\n",
      "Data columns (total 9 columns):\n",
      " #   Column                     Non-Null Count  Dtype  \n",
      "---  ------                     --------------  -----  \n",
      " 0   id                         18524 non-null  int64  \n",
      " 1   Time_spent_Alone           17334 non-null  float64\n",
      " 2   Stage_fear                 16631 non-null  object \n",
      " 3   Social_event_attendance    17344 non-null  float64\n",
      " 4   Going_outside              17058 non-null  float64\n",
      " 5   Drained_after_socializing  17375 non-null  object \n",
      " 6   Friends_circle_size        17470 non-null  float64\n",
      " 7   Post_frequency             17260 non-null  float64\n",
      " 8   Personality                18524 non-null  object \n",
      "dtypes: float64(5), int64(1), object(3)\n",
      "memory usage: 1.3+ MB\n"
     ]
    }
   ],
   "source": [
    "train.info()"
   ]
  },
  {
   "cell_type": "code",
   "execution_count": 7,
   "id": "7201e1d4",
   "metadata": {
    "execution": {
     "iopub.execute_input": "2025-07-06T13:08:02.231576Z",
     "iopub.status.busy": "2025-07-06T13:08:02.230425Z",
     "iopub.status.idle": "2025-07-06T13:08:02.236514Z",
     "shell.execute_reply": "2025-07-06T13:08:02.235640Z"
    },
    "papermill": {
     "duration": 0.016744,
     "end_time": "2025-07-06T13:08:02.238513",
     "exception": false,
     "start_time": "2025-07-06T13:08:02.221769",
     "status": "completed"
    },
    "tags": []
   },
   "outputs": [
    {
     "data": {
      "text/plain": [
       "(6175, 8)"
      ]
     },
     "execution_count": 7,
     "metadata": {},
     "output_type": "execute_result"
    }
   ],
   "source": [
    "test.shape"
   ]
  },
  {
   "cell_type": "code",
   "execution_count": 8,
   "id": "a0e7884d",
   "metadata": {
    "execution": {
     "iopub.execute_input": "2025-07-06T13:08:02.256379Z",
     "iopub.status.busy": "2025-07-06T13:08:02.255891Z",
     "iopub.status.idle": "2025-07-06T13:08:02.271506Z",
     "shell.execute_reply": "2025-07-06T13:08:02.270288Z"
    },
    "papermill": {
     "duration": 0.026735,
     "end_time": "2025-07-06T13:08:02.273033",
     "exception": false,
     "start_time": "2025-07-06T13:08:02.246298",
     "status": "completed"
    },
    "tags": []
   },
   "outputs": [
    {
     "name": "stdout",
     "output_type": "stream",
     "text": [
      "<class 'pandas.core.frame.DataFrame'>\n",
      "RangeIndex: 6175 entries, 0 to 6174\n",
      "Data columns (total 8 columns):\n",
      " #   Column                     Non-Null Count  Dtype  \n",
      "---  ------                     --------------  -----  \n",
      " 0   id                         6175 non-null   int64  \n",
      " 1   Time_spent_Alone           5750 non-null   float64\n",
      " 2   Stage_fear                 5577 non-null   object \n",
      " 3   Social_event_attendance    5778 non-null   float64\n",
      " 4   Going_outside              5709 non-null   float64\n",
      " 5   Drained_after_socializing  5743 non-null   object \n",
      " 6   Friends_circle_size        5825 non-null   float64\n",
      " 7   Post_frequency             5767 non-null   float64\n",
      "dtypes: float64(5), int64(1), object(2)\n",
      "memory usage: 386.1+ KB\n"
     ]
    }
   ],
   "source": [
    "test.info()"
   ]
  },
  {
   "cell_type": "markdown",
   "id": "19297a16",
   "metadata": {
    "papermill": {
     "duration": 0.008853,
     "end_time": "2025-07-06T13:08:02.289039",
     "exception": false,
     "start_time": "2025-07-06T13:08:02.280186",
     "status": "completed"
    },
    "tags": []
   },
   "source": [
    "# EDA"
   ]
  },
  {
   "cell_type": "code",
   "execution_count": 9,
   "id": "59201042",
   "metadata": {
    "execution": {
     "iopub.execute_input": "2025-07-06T13:08:02.304205Z",
     "iopub.status.busy": "2025-07-06T13:08:02.303877Z",
     "iopub.status.idle": "2025-07-06T13:08:02.571541Z",
     "shell.execute_reply": "2025-07-06T13:08:02.570640Z"
    },
    "papermill": {
     "duration": 0.277152,
     "end_time": "2025-07-06T13:08:02.573157",
     "exception": false,
     "start_time": "2025-07-06T13:08:02.296005",
     "status": "completed"
    },
    "tags": []
   },
   "outputs": [
    {
     "data": {
      "text/plain": [
       "Text(0, 0.5, 'Count')"
      ]
     },
     "execution_count": 9,
     "metadata": {},
     "output_type": "execute_result"
    },
    {
     "data": {
      "image/png": "[encoded data removed]",
      "text/plain": [
       "<Figure size 800x500 with 1 Axes>"
      ]
     },
     "metadata": {},
     "output_type": "display_data"
    }
   ],
   "source": [
    "# Personality distribution with emoji\n",
    "plt.figure(figsize=(8,5))\n",
    "ax = sns.countplot(x='Personality', data=train)\n",
    "plt.title('Introvert vs Extrovert Distribution ', fontsize=14)\n",
    "plt.xlabel('Personality Type', fontsize=12)\n",
    "plt.ylabel('Count', fontsize=12)"
   ]
  },
  {
   "cell_type": "code",
   "execution_count": 10,
   "id": "4b1f355b",
   "metadata": {
    "execution": {
     "iopub.execute_input": "2025-07-06T13:08:02.589629Z",
     "iopub.status.busy": "2025-07-06T13:08:02.589287Z",
     "iopub.status.idle": "2025-07-06T13:08:02.594653Z",
     "shell.execute_reply": "2025-07-06T13:08:02.593926Z"
    },
    "papermill": {
     "duration": 0.015333,
     "end_time": "2025-07-06T13:08:02.596191",
     "exception": false,
     "start_time": "2025-07-06T13:08:02.580858",
     "status": "completed"
    },
    "tags": []
   },
   "outputs": [],
   "source": [
    "# Add percentage labels\n",
    "total = len(train)\n",
    "for p in ax.patches:\n",
    "    percentage = f'{100*p.get_height()/total:.1f}%'\n",
    "    x = p.get_x() + p.get_width()/2\n",
    "    y = p.get_height() + 200\n",
    "    ax.annotate(percentage, (x, y), ha='center')\n",
    "plt.show()"
   ]
  },
  {
   "cell_type": "code",
   "execution_count": 11,
   "id": "58c8d7fe",
   "metadata": {
    "execution": {
     "iopub.execute_input": "2025-07-06T13:08:02.612307Z",
     "iopub.status.busy": "2025-07-06T13:08:02.611951Z",
     "iopub.status.idle": "2025-07-06T13:08:02.628306Z",
     "shell.execute_reply": "2025-07-06T13:08:02.627426Z"
    },
    "papermill": {
     "duration": 0.025905,
     "end_time": "2025-07-06T13:08:02.629633",
     "exception": false,
     "start_time": "2025-07-06T13:08:02.603728",
     "status": "completed"
    },
    "tags": []
   },
   "outputs": [
    {
     "data": {
      "text/plain": [
       "<Figure size 1500x1000 with 0 Axes>"
      ]
     },
     "execution_count": 11,
     "metadata": {},
     "output_type": "execute_result"
    },
    {
     "data": {
      "text/plain": [
       "<Figure size 1500x1000 with 0 Axes>"
      ]
     },
     "metadata": {},
     "output_type": "display_data"
    }
   ],
   "source": [
    "# Feature distributions with personality comparison\n",
    "plt.figure(figsize=(15,10))"
   ]
  },
  {
   "cell_type": "code",
   "execution_count": 12,
   "id": "d9510ffe",
   "metadata": {
    "execution": {
     "iopub.execute_input": "2025-07-06T13:08:02.647450Z",
     "iopub.status.busy": "2025-07-06T13:08:02.647109Z",
     "iopub.status.idle": "2025-07-06T13:08:02.822670Z",
     "shell.execute_reply": "2025-07-06T13:08:02.821723Z"
    },
    "papermill": {
     "duration": 0.186655,
     "end_time": "2025-07-06T13:08:02.823905",
     "exception": false,
     "start_time": "2025-07-06T13:08:02.637250",
     "status": "completed"
    },
    "tags": []
   },
   "outputs": [
    {
     "data": {
      "text/plain": [
       "Text(0.5, 1.0, '⏳ Time Spent Alone Comparison')"
      ]
     },
     "execution_count": 12,
     "metadata": {},
     "output_type": "execute_result"
    },
    {
     "name": "stderr",
     "output_type": "stream",
     "text": [
      "/usr/local/lib/python3.11/dist-packages/IPython/core/events.py:89: UserWarning: Glyph 9203 (\\N{HOURGLASS WITH FLOWING SAND}) missing from current font.\n",
      "  func(*args, **kwargs)\n",
      "/usr/local/lib/python3.11/dist-packages/IPython/core/pylabtools.py:151: UserWarning: Glyph 9203 (\\N{HOURGLASS WITH FLOWING SAND}) missing from current font.\n",
      "  fig.canvas.print_figure(bytes_io, **kw)\n"
     ]
    },
    {
     "data": {
      "image/png": "[encoded data removed]",
      "text/plain": [
       "<Figure size 800x550 with 1 Axes>"
      ]
     },
     "metadata": {},
     "output_type": "display_data"
    }
   ],
   "source": [
    "# Plot 1: Time spent alone\n",
    "plt.subplot(2,2,1)\n",
    "sns.boxplot(x='Personality', y='Time_spent_Alone', data=train)\n",
    "plt.title('⏳ Time Spent Alone Comparison')"
   ]
  },
  {
   "cell_type": "code",
   "execution_count": 13,
   "id": "af266093",
   "metadata": {
    "execution": {
     "iopub.execute_input": "2025-07-06T13:08:02.841515Z",
     "iopub.status.busy": "2025-07-06T13:08:02.841176Z",
     "iopub.status.idle": "2025-07-06T13:08:03.004840Z",
     "shell.execute_reply": "2025-07-06T13:08:03.003821Z"
    },
    "papermill": {
     "duration": 0.174402,
     "end_time": "2025-07-06T13:08:03.006668",
     "exception": false,
     "start_time": "2025-07-06T13:08:02.832266",
     "status": "completed"
    },
    "tags": []
   },
   "outputs": [
    {
     "data": {
      "image/png": "[encoded data removed]",
      "text/plain": [
       "<Figure size 800x550 with 1 Axes>"
      ]
     },
     "metadata": {},
     "output_type": "display_data"
    }
   ],
   "source": [
    "# Plot 2: Social events\n",
    "plt.subplot(2,2,2)\n",
    "sns.boxplot(x='Personality', y='Social_event_attendance', data=train)\n",
    "plt.title(' Social Event Attendance')\n",
    "plt.tight_layout()\n",
    "plt.show()"
   ]
  },
  {
   "cell_type": "code",
   "execution_count": 14,
   "id": "e13227ab",
   "metadata": {
    "execution": {
     "iopub.execute_input": "2025-07-06T13:08:03.026887Z",
     "iopub.status.busy": "2025-07-06T13:08:03.026585Z",
     "iopub.status.idle": "2025-07-06T13:08:03.192668Z",
     "shell.execute_reply": "2025-07-06T13:08:03.191796Z"
    },
    "papermill": {
     "duration": 0.178432,
     "end_time": "2025-07-06T13:08:03.194331",
     "exception": false,
     "start_time": "2025-07-06T13:08:03.015899",
     "status": "completed"
    },
    "tags": []
   },
   "outputs": [
    {
     "data": {
      "image/png": "[encoded data removed]",
      "text/plain": [
       "<Figure size 800x550 with 1 Axes>"
      ]
     },
     "metadata": {},
     "output_type": "display_data"
    }
   ],
   "source": [
    "# Plot 3: Friends circle\n",
    "plt.subplot(2,2,3)\n",
    "sns.boxplot(x='Personality', y='Friends_circle_size', data=train)\n",
    "plt.title(' Friends Circle Size')\n",
    "plt.tight_layout()\n",
    "plt.show()"
   ]
  },
  {
   "cell_type": "code",
   "execution_count": 15,
   "id": "09ede069",
   "metadata": {
    "execution": {
     "iopub.execute_input": "2025-07-06T13:08:03.214079Z",
     "iopub.status.busy": "2025-07-06T13:08:03.213721Z",
     "iopub.status.idle": "2025-07-06T13:08:03.407463Z",
     "shell.execute_reply": "2025-07-06T13:08:03.406484Z"
    },
    "papermill": {
     "duration": 0.205584,
     "end_time": "2025-07-06T13:08:03.408960",
     "exception": false,
     "start_time": "2025-07-06T13:08:03.203376",
     "status": "completed"
    },
    "tags": []
   },
   "outputs": [
    {
     "data": {
      "image/png": "[encoded data removed]",
      "text/plain": [
       "<Figure size 800x550 with 1 Axes>"
      ]
     },
     "metadata": {},
     "output_type": "display_data"
    }
   ],
   "source": [
    "# Plot 4: Stage fear\n",
    "plt.subplot(2,2,4)\n",
    "sns.countplot(x='Stage_fear', hue='Personality', data=train)\n",
    "plt.title('Stage Fear Analysis')\n",
    "plt.tight_layout()\n",
    "plt.show()"
   ]
  },
  {
   "cell_type": "markdown",
   "id": "21265ffa",
   "metadata": {
    "papermill": {
     "duration": 0.008864,
     "end_time": "2025-07-06T13:08:03.427290",
     "exception": false,
     "start_time": "2025-07-06T13:08:03.418426",
     "status": "completed"
    },
    "tags": []
   },
   "source": [
    "# 3. Clean Preprocessing"
   ]
  },
  {
   "cell_type": "markdown",
   "id": "e888886a",
   "metadata": {
    "papermill": {
     "duration": 0.008801,
     "end_time": "2025-07-06T13:08:03.445212",
     "exception": false,
     "start_time": "2025-07-06T13:08:03.436411",
     "status": "completed"
    },
    "tags": []
   },
   "source": [
    "## Handle missing values properly"
   ]
  },
  {
   "cell_type": "code",
   "execution_count": 16,
   "id": "36181180",
   "metadata": {
    "execution": {
     "iopub.execute_input": "2025-07-06T13:08:03.464651Z",
     "iopub.status.busy": "2025-07-06T13:08:03.464326Z",
     "iopub.status.idle": "2025-07-06T13:08:03.476693Z",
     "shell.execute_reply": "2025-07-06T13:08:03.476033Z"
    },
    "papermill": {
     "duration": 0.024062,
     "end_time": "2025-07-06T13:08:03.478232",
     "exception": false,
     "start_time": "2025-07-06T13:08:03.454170",
     "status": "completed"
    },
    "tags": []
   },
   "outputs": [],
   "source": [
    "# Simple feature engineering\n",
    "train['Social_Ratio'] = train['Social_event_attendance']/(train['Time_spent_Alone']+1)\n",
    "test['Social_Ratio'] = test['Social_event_attendance']/(test['Time_spent_Alone']+1)\n"
   ]
  },
  {
   "cell_type": "code",
   "execution_count": 17,
   "id": "0e89f34e",
   "metadata": {
    "execution": {
     "iopub.execute_input": "2025-07-06T13:08:03.562175Z",
     "iopub.status.busy": "2025-07-06T13:08:03.561859Z",
     "iopub.status.idle": "2025-07-06T13:08:03.567730Z",
     "shell.execute_reply": "2025-07-06T13:08:03.567046Z"
    },
    "papermill": {
     "duration": 0.017325,
     "end_time": "2025-07-06T13:08:03.569103",
     "exception": false,
     "start_time": "2025-07-06T13:08:03.551778",
     "status": "completed"
    },
    "tags": []
   },
   "outputs": [],
   "source": [
    "# First identify numerical columns\n",
    "num_cols = train.select_dtypes(include=['int64', 'float64']).columns.tolist()\n"
   ]
  },
  {
   "cell_type": "code",
   "execution_count": 18,
   "id": "b6930e41",
   "metadata": {
    "execution": {
     "iopub.execute_input": "2025-07-06T13:08:03.589390Z",
     "iopub.status.busy": "2025-07-06T13:08:03.589099Z",
     "iopub.status.idle": "2025-07-06T13:08:03.611222Z",
     "shell.execute_reply": "2025-07-06T13:08:03.610516Z"
    },
    "papermill": {
     "duration": 0.034266,
     "end_time": "2025-07-06T13:08:03.612887",
     "exception": false,
     "start_time": "2025-07-06T13:08:03.578621",
     "status": "completed"
    },
    "tags": []
   },
   "outputs": [],
   "source": [
    "# Only fill numerical columns with median\n",
    "train[num_cols] = train[num_cols].fillna(train[num_cols].median())\n",
    "test[num_cols] = test[num_cols].fillna(test[num_cols].median())"
   ]
  },
  {
   "cell_type": "code",
   "execution_count": 19,
   "id": "13d87379",
   "metadata": {
    "execution": {
     "iopub.execute_input": "2025-07-06T13:08:03.633316Z",
     "iopub.status.busy": "2025-07-06T13:08:03.632964Z",
     "iopub.status.idle": "2025-07-06T13:08:03.637864Z",
     "shell.execute_reply": "2025-07-06T13:08:03.637193Z"
    },
    "papermill": {
     "duration": 0.01668,
     "end_time": "2025-07-06T13:08:03.639220",
     "exception": false,
     "start_time": "2025-07-06T13:08:03.622540",
     "status": "completed"
    },
    "tags": []
   },
   "outputs": [],
   "source": [
    "# For categorical columns, fill with mode\n",
    "cat_cols = train.select_dtypes(include=['object']).columns.tolist()\n",
    "cat_cols.remove('Personality')  # Exclude target variable\n"
   ]
  },
  {
   "cell_type": "code",
   "execution_count": 20,
   "id": "535478e1",
   "metadata": {
    "execution": {
     "iopub.execute_input": "2025-07-06T13:08:03.660867Z",
     "iopub.status.busy": "2025-07-06T13:08:03.660600Z",
     "iopub.status.idle": "2025-07-06T13:08:03.673940Z",
     "shell.execute_reply": "2025-07-06T13:08:03.673051Z"
    },
    "papermill": {
     "duration": 0.025266,
     "end_time": "2025-07-06T13:08:03.675419",
     "exception": false,
     "start_time": "2025-07-06T13:08:03.650153",
     "status": "completed"
    },
    "tags": []
   },
   "outputs": [
    {
     "name": "stderr",
     "output_type": "stream",
     "text": [
      "/tmp/ipykernel_13/1422093075.py:2: FutureWarning: A value is trying to be set on a copy of a DataFrame or Series through chained assignment using an inplace method.\n",
      "The behavior will change in pandas 3.0. This inplace method will never work because the intermediate object on which we are setting values always behaves as a copy.\n",
      "\n",
      "For example, when doing 'df[col].method(value, inplace=True)', try using 'df.method({col: value}, inplace=True)' or df[col] = df[col].method(value) instead, to perform the operation inplace on the original object.\n",
      "\n",
      "\n",
      "  train[col].fillna(train[col].mode()[0], inplace=True)\n",
      "/tmp/ipykernel_13/1422093075.py:3: FutureWarning: A value is trying to be set on a copy of a DataFrame or Series through chained assignment using an inplace method.\n",
      "The behavior will change in pandas 3.0. This inplace method will never work because the intermediate object on which we are setting values always behaves as a copy.\n",
      "\n",
      "For example, when doing 'df[col].method(value, inplace=True)', try using 'df.method({col: value}, inplace=True)' or df[col] = df[col].method(value) instead, to perform the operation inplace on the original object.\n",
      "\n",
      "\n",
      "  test[col].fillna(test[col].mode()[0], inplace=True)\n"
     ]
    }
   ],
   "source": [
    "for col in cat_cols:\n",
    "    train[col].fillna(train[col].mode()[0], inplace=True)\n",
    "    test[col].fillna(test[col].mode()[0], inplace=True)\n"
   ]
  },
  {
   "cell_type": "code",
   "execution_count": 21,
   "id": "9fce71df",
   "metadata": {
    "execution": {
     "iopub.execute_input": "2025-07-06T13:08:03.695950Z",
     "iopub.status.busy": "2025-07-06T13:08:03.695361Z",
     "iopub.status.idle": "2025-07-06T13:08:03.706832Z",
     "shell.execute_reply": "2025-07-06T13:08:03.705926Z"
    },
    "papermill": {
     "duration": 0.023586,
     "end_time": "2025-07-06T13:08:03.708422",
     "exception": false,
     "start_time": "2025-07-06T13:08:03.684836",
     "status": "completed"
    },
    "tags": []
   },
   "outputs": [
    {
     "name": "stdout",
     "output_type": "stream",
     "text": [
      "Missing values in train: 0\n",
      "Missing values in test: 0\n"
     ]
    }
   ],
   "source": [
    "# Verify no missing values remain\n",
    "print(\"Missing values in train:\", train.isnull().sum().sum())\n",
    "print(\"Missing values in test:\", test.isnull().sum().sum())"
   ]
  },
  {
   "cell_type": "markdown",
   "id": "c00b125f",
   "metadata": {
    "papermill": {
     "duration": 0.009476,
     "end_time": "2025-07-06T13:08:03.728007",
     "exception": false,
     "start_time": "2025-07-06T13:08:03.718531",
     "status": "completed"
    },
    "tags": []
   },
   "source": [
    "# Encode categoricals"
   ]
  },
  {
   "cell_type": "code",
   "execution_count": 22,
   "id": "d485ee8a",
   "metadata": {
    "execution": {
     "iopub.execute_input": "2025-07-06T13:08:03.748544Z",
     "iopub.status.busy": "2025-07-06T13:08:03.748230Z",
     "iopub.status.idle": "2025-07-06T13:08:03.765401Z",
     "shell.execute_reply": "2025-07-06T13:08:03.764657Z"
    },
    "papermill": {
     "duration": 0.029448,
     "end_time": "2025-07-06T13:08:03.767055",
     "exception": false,
     "start_time": "2025-07-06T13:08:03.737607",
     "status": "completed"
    },
    "tags": []
   },
   "outputs": [],
   "source": [
    "\n",
    "le = LabelEncoder()\n",
    "train['Drained_after_socializing'] = le.fit_transform(train['Drained_after_socializing'])\n",
    "test['Drained_after_socializing'] = le.transform(test['Drained_after_socializing'])\n",
    "train['Stage_fear'] = le.fit_transform(train['Stage_fear'])\n",
    "test['Stage_fear'] = le.transform(test['Stage_fear'])"
   ]
  },
  {
   "cell_type": "markdown",
   "id": "124db7aa",
   "metadata": {
    "papermill": {
     "duration": 0.009537,
     "end_time": "2025-07-06T13:08:03.786708",
     "exception": false,
     "start_time": "2025-07-06T13:08:03.777171",
     "status": "completed"
    },
    "tags": []
   },
   "source": [
    "# Prepare data"
   ]
  },
  {
   "cell_type": "code",
   "execution_count": 23,
   "id": "7d581e51",
   "metadata": {
    "execution": {
     "iopub.execute_input": "2025-07-06T13:08:03.807558Z",
     "iopub.status.busy": "2025-07-06T13:08:03.807248Z",
     "iopub.status.idle": "2025-07-06T13:08:03.816838Z",
     "shell.execute_reply": "2025-07-06T13:08:03.815937Z"
    },
    "papermill": {
     "duration": 0.022149,
     "end_time": "2025-07-06T13:08:03.818497",
     "exception": false,
     "start_time": "2025-07-06T13:08:03.796348",
     "status": "completed"
    },
    "tags": []
   },
   "outputs": [],
   "source": [
    "\n",
    "X = train.drop(['id', 'Personality'], axis=1)\n",
    "y = train['Personality'].map({'Introvert':0, 'Extrovert':1})\n",
    "X_test = test.drop('id', axis=1)"
   ]
  },
  {
   "cell_type": "markdown",
   "id": "19af211b",
   "metadata": {
    "papermill": {
     "duration": 0.009528,
     "end_time": "2025-07-06T13:08:03.837612",
     "exception": false,
     "start_time": "2025-07-06T13:08:03.828084",
     "status": "completed"
    },
    "tags": []
   },
   "source": [
    "# Scale features"
   ]
  },
  {
   "cell_type": "code",
   "execution_count": 24,
   "id": "2cc477d3",
   "metadata": {
    "execution": {
     "iopub.execute_input": "2025-07-06T13:08:03.857910Z",
     "iopub.status.busy": "2025-07-06T13:08:03.857592Z",
     "iopub.status.idle": "2025-07-06T13:08:03.877403Z",
     "shell.execute_reply": "2025-07-06T13:08:03.876307Z"
    },
    "papermill": {
     "duration": 0.032074,
     "end_time": "2025-07-06T13:08:03.879256",
     "exception": false,
     "start_time": "2025-07-06T13:08:03.847182",
     "status": "completed"
    },
    "tags": []
   },
   "outputs": [],
   "source": [
    "\n",
    "scaler = StandardScaler()\n",
    "X = scaler.fit_transform(X)\n",
    "X_test = scaler.transform(X_test)"
   ]
  },
  {
   "cell_type": "markdown",
   "id": "3c56f232",
   "metadata": {
    "papermill": {
     "duration": 0.009029,
     "end_time": "2025-07-06T13:08:03.900351",
     "exception": false,
     "start_time": "2025-07-06T13:08:03.891322",
     "status": "completed"
    },
    "tags": []
   },
   "source": [
    "# SVC Model"
   ]
  },
  {
   "cell_type": "code",
   "execution_count": 25,
   "id": "4e1a1dd7",
   "metadata": {
    "execution": {
     "iopub.execute_input": "2025-07-06T13:08:03.920006Z",
     "iopub.status.busy": "2025-07-06T13:08:03.919709Z",
     "iopub.status.idle": "2025-07-06T13:08:03.926792Z",
     "shell.execute_reply": "2025-07-06T13:08:03.926155Z"
    },
    "papermill": {
     "duration": 0.018794,
     "end_time": "2025-07-06T13:08:03.928337",
     "exception": false,
     "start_time": "2025-07-06T13:08:03.909543",
     "status": "completed"
    },
    "tags": []
   },
   "outputs": [],
   "source": [
    "# Split data\n",
    "X_train, X_val, y_train, y_val = train_test_split(X, y, test_size=0.2, random_state=42)\n"
   ]
  },
  {
   "cell_type": "code",
   "execution_count": 26,
   "id": "5e9679e8",
   "metadata": {
    "execution": {
     "iopub.execute_input": "2025-07-06T13:08:03.949520Z",
     "iopub.status.busy": "2025-07-06T13:08:03.948891Z",
     "iopub.status.idle": "2025-07-06T13:08:14.650479Z",
     "shell.execute_reply": "2025-07-06T13:08:14.649490Z"
    },
    "papermill": {
     "duration": 10.713432,
     "end_time": "2025-07-06T13:08:14.651896",
     "exception": false,
     "start_time": "2025-07-06T13:08:03.938464",
     "status": "completed"
    },
    "tags": []
   },
   "outputs": [
    {
     "data": {
      "text/html": [
       "<style>#sk-container-id-1 {color: black;background-color: white;}#sk-container-id-1 pre{padding: 0;}#sk-container-id-1 div.sk-toggleable {background-color: white;}#sk-container-id-1 label.sk-toggleable__label {cursor: pointer;display: block;width: 100%;margin-bottom: 0;padding: 0.3em;box-sizing: border-box;text-align: center;}#sk-container-id-1 label.sk-toggleable__label-arrow:before {content: \"▸\";float: left;margin-right: 0.25em;color: #696969;}#sk-container-id-1 label.sk-toggleable__label-arrow:hover:before {color: black;}#sk-container-id-1 div.sk-estimator:hover label.sk-toggleable__label-arrow:before {color: black;}#sk-container-id-1 div.sk-toggleable__content {max-height: 0;max-width: 0;overflow: hidden;text-align: left;background-color: #f0f8ff;}#sk-container-id-1 div.sk-toggleable__content pre {margin: 0.2em;color: black;border-radius: 0.25em;background-color: #f0f8ff;}#sk-container-id-1 input.sk-toggleable__control:checked~div.sk-toggleable__content {max-height: 200px;max-width: 100%;overflow: auto;}#sk-container-id-1 input.sk-toggleable__control:checked~label.sk-toggleable__label-arrow:before {content: \"▾\";}#sk-container-id-1 div.sk-estimator input.sk-toggleable__control:checked~label.sk-toggleable__label {background-color: #d4ebff;}#sk-container-id-1 div.sk-label input.sk-toggleable__control:checked~label.sk-toggleable__label {background-color: #d4ebff;}#sk-container-id-1 input.sk-hidden--visually {border: 0;clip: rect(1px 1px 1px 1px);clip: rect(1px, 1px, 1px, 1px);height: 1px;margin: -1px;overflow: hidden;padding: 0;position: absolute;width: 1px;}#sk-container-id-1 div.sk-estimator {font-family: monospace;background-color: #f0f8ff;border: 1px dotted black;border-radius: 0.25em;box-sizing: border-box;margin-bottom: 0.5em;}#sk-container-id-1 div.sk-estimator:hover {background-color: #d4ebff;}#sk-container-id-1 div.sk-parallel-item::after {content: \"\";width: 100%;border-bottom: 1px solid gray;flex-grow: 1;}#sk-container-id-1 div.sk-label:hover label.sk-toggleable__label {background-color: #d4ebff;}#sk-container-id-1 div.sk-serial::before {content: \"\";position: absolute;border-left: 1px solid gray;box-sizing: border-box;top: 0;bottom: 0;left: 50%;z-index: 0;}#sk-container-id-1 div.sk-serial {display: flex;flex-direction: column;align-items: center;background-color: white;padding-right: 0.2em;padding-left: 0.2em;position: relative;}#sk-container-id-1 div.sk-item {position: relative;z-index: 1;}#sk-container-id-1 div.sk-parallel {display: flex;align-items: stretch;justify-content: center;background-color: white;position: relative;}#sk-container-id-1 div.sk-item::before, #sk-container-id-1 div.sk-parallel-item::before {content: \"\";position: absolute;border-left: 1px solid gray;box-sizing: border-box;top: 0;bottom: 0;left: 50%;z-index: -1;}#sk-container-id-1 div.sk-parallel-item {display: flex;flex-direction: column;z-index: 1;position: relative;background-color: white;}#sk-container-id-1 div.sk-parallel-item:first-child::after {align-self: flex-end;width: 50%;}#sk-container-id-1 div.sk-parallel-item:last-child::after {align-self: flex-start;width: 50%;}#sk-container-id-1 div.sk-parallel-item:only-child::after {width: 0;}#sk-container-id-1 div.sk-dashed-wrapped {border: 1px dashed gray;margin: 0 0.4em 0.5em 0.4em;box-sizing: border-box;padding-bottom: 0.4em;background-color: white;}#sk-container-id-1 div.sk-label label {font-family: monospace;font-weight: bold;display: inline-block;line-height: 1.2em;}#sk-container-id-1 div.sk-label-container {text-align: center;}#sk-container-id-1 div.sk-container {/* jupyter's `normalize.less` sets `[hidden] { display: none; }` but bootstrap.min.css set `[hidden] { display: none !important; }` so we also need the `!important` here to be able to override the default hidden behavior on the sphinx rendered scikit-learn.org. See: https://github.com/scikit-learn/scikit-learn/issues/21755 */display: inline-block !important;position: relative;}#sk-container-id-1 div.sk-text-repr-fallback {display: none;}</style><div id=\"sk-container-id-1\" class=\"sk-top-container\"><div class=\"sk-text-repr-fallback\"><pre>SVC(probability=True)</pre><b>In a Jupyter environment, please rerun this cell to show the HTML representation or trust the notebook. <br />On GitHub, the HTML representation is unable to render, please try loading this page with nbviewer.org.</b></div><div class=\"sk-container\" hidden><div class=\"sk-item\"><div class=\"sk-estimator sk-toggleable\"><input class=\"sk-toggleable__control sk-hidden--visually\" id=\"sk-estimator-id-1\" type=\"checkbox\" checked><label for=\"sk-estimator-id-1\" class=\"sk-toggleable__label sk-toggleable__label-arrow\">SVC</label><div class=\"sk-toggleable__content\"><pre>SVC(probability=True)</pre></div></div></div></div></div>"
      ],
      "text/plain": [
       "SVC(probability=True)"
      ]
     },
     "execution_count": 26,
     "metadata": {},
     "output_type": "execute_result"
    }
   ],
   "source": [
    "# Train SVC\n",
    "model = SVC(kernel='rbf', C=1.0, probability=True)\n",
    "model.fit(X_train, y_train)"
   ]
  },
  {
   "cell_type": "markdown",
   "id": "e2b74fce",
   "metadata": {
    "papermill": {
     "duration": 0.009206,
     "end_time": "2025-07-06T13:08:14.672385",
     "exception": false,
     "start_time": "2025-07-06T13:08:14.663179",
     "status": "completed"
    },
    "tags": []
   },
   "source": [
    "# Evaluate"
   ]
  },
  {
   "cell_type": "code",
   "execution_count": 27,
   "id": "20711e5d",
   "metadata": {
    "execution": {
     "iopub.execute_input": "2025-07-06T13:08:14.694437Z",
     "iopub.status.busy": "2025-07-06T13:08:14.694113Z",
     "iopub.status.idle": "2025-07-06T13:08:14.941327Z",
     "shell.execute_reply": "2025-07-06T13:08:14.940196Z"
    },
    "papermill": {
     "duration": 0.259396,
     "end_time": "2025-07-06T13:08:14.942854",
     "exception": false,
     "start_time": "2025-07-06T13:08:14.683458",
     "status": "completed"
    },
    "tags": []
   },
   "outputs": [
    {
     "name": "stdout",
     "output_type": "stream",
     "text": [
      " Accuracy: 0.9687\n"
     ]
    }
   ],
   "source": [
    "\n",
    "y_pred = model.predict(X_val)\n",
    "print(f\" Accuracy: {accuracy_score(y_val, y_pred):.4f}\")"
   ]
  },
  {
   "cell_type": "code",
   "execution_count": 28,
   "id": "e64af445",
   "metadata": {
    "execution": {
     "iopub.execute_input": "2025-07-06T13:08:14.963918Z",
     "iopub.status.busy": "2025-07-06T13:08:14.963226Z",
     "iopub.status.idle": "2025-07-06T13:08:15.122732Z",
     "shell.execute_reply": "2025-07-06T13:08:15.121863Z"
    },
    "papermill": {
     "duration": 0.171574,
     "end_time": "2025-07-06T13:08:15.124091",
     "exception": false,
     "start_time": "2025-07-06T13:08:14.952517",
     "status": "completed"
    },
    "tags": []
   },
   "outputs": [
    {
     "data": {
      "image/png": "[encoded data removed]",
      "text/plain": [
       "<Figure size 600x400 with 2 Axes>"
      ]
     },
     "metadata": {},
     "output_type": "display_data"
    }
   ],
   "source": [
    "# Confusion matrix with style\n",
    "plt.figure(figsize=(6,4))\n",
    "sns.heatmap(confusion_matrix(y_val, y_pred), \n",
    "            annot=True, fmt='d', cmap='YlOrRd',\n",
    "            xticklabels=['Introvert', 'Extrovert'],\n",
    "            yticklabels=['Introvert', 'Extrovert'])\n",
    "plt.title('Confusion Matrix', fontsize=14)\n",
    "plt.show()"
   ]
  },
  {
   "cell_type": "code",
   "execution_count": 29,
   "id": "349c9ba6",
   "metadata": {
    "execution": {
     "iopub.execute_input": "2025-07-06T13:08:15.145489Z",
     "iopub.status.busy": "2025-07-06T13:08:15.145154Z",
     "iopub.status.idle": "2025-07-06T13:08:15.162269Z",
     "shell.execute_reply": "2025-07-06T13:08:15.161145Z"
    },
    "papermill": {
     "duration": 0.029583,
     "end_time": "2025-07-06T13:08:15.163782",
     "exception": false,
     "start_time": "2025-07-06T13:08:15.134199",
     "status": "completed"
    },
    "tags": []
   },
   "outputs": [
    {
     "name": "stdout",
     "output_type": "stream",
     "text": [
      "\n",
      " Classification Report:\n",
      "              precision    recall  f1-score   support\n",
      "\n",
      "           0       0.95      0.93      0.94       952\n",
      "           1       0.98      0.98      0.98      2753\n",
      "\n",
      "    accuracy                           0.97      3705\n",
      "   macro avg       0.96      0.96      0.96      3705\n",
      "weighted avg       0.97      0.97      0.97      3705\n",
      "\n"
     ]
    }
   ],
   "source": [
    "# Classification report\n",
    "print(\"\\n Classification Report:\")\n",
    "print(classification_report(y_val, y_pred))"
   ]
  },
  {
   "cell_type": "markdown",
   "id": "fe85e053",
   "metadata": {
    "papermill": {
     "duration": 0.010167,
     "end_time": "2025-07-06T13:08:15.184706",
     "exception": false,
     "start_time": "2025-07-06T13:08:15.174539",
     "status": "completed"
    },
    "tags": []
   },
   "source": [
    "# Submission with Personality"
   ]
  },
  {
   "cell_type": "code",
   "execution_count": 30,
   "id": "2ccd475e",
   "metadata": {
    "execution": {
     "iopub.execute_input": "2025-07-06T13:08:15.207802Z",
     "iopub.status.busy": "2025-07-06T13:08:15.206886Z",
     "iopub.status.idle": "2025-07-06T13:08:15.605454Z",
     "shell.execute_reply": "2025-07-06T13:08:15.604541Z"
    },
    "papermill": {
     "duration": 0.411784,
     "end_time": "2025-07-06T13:08:15.607087",
     "exception": false,
     "start_time": "2025-07-06T13:08:15.195303",
     "status": "completed"
    },
    "tags": []
   },
   "outputs": [],
   "source": [
    "# Make predictions\n",
    "test_preds = model.predict(X_test)\n",
    "test_preds = ['Introvert' if x == 0 else 'Extrovert' for x in test_preds]\n"
   ]
  },
  {
   "cell_type": "code",
   "execution_count": 31,
   "id": "1e56b404",
   "metadata": {
    "execution": {
     "iopub.execute_input": "2025-07-06T13:08:15.628594Z",
     "iopub.status.busy": "2025-07-06T13:08:15.628269Z",
     "iopub.status.idle": "2025-07-06T13:08:15.649289Z",
     "shell.execute_reply": "2025-07-06T13:08:15.648412Z"
    },
    "papermill": {
     "duration": 0.033689,
     "end_time": "2025-07-06T13:08:15.650917",
     "exception": false,
     "start_time": "2025-07-06T13:08:15.617228",
     "status": "completed"
    },
    "tags": []
   },
   "outputs": [
    {
     "name": "stdout",
     "output_type": "stream",
     "text": [
      "\n",
      " Sample Submission:\n"
     ]
    },
    {
     "data": {
      "text/html": [
       "<div>\n",
       "<style scoped>\n",
       "    .dataframe tbody tr th:only-of-type {\n",
       "        vertical-align: middle;\n",
       "    }\n",
       "\n",
       "    .dataframe tbody tr th {\n",
       "        vertical-align: top;\n",
       "    }\n",
       "\n",
       "    .dataframe thead th {\n",
       "        text-align: right;\n",
       "    }\n",
       "</style>\n",
       "<table border=\"1\" class=\"dataframe\">\n",
       "  <thead>\n",
       "    <tr style=\"text-align: right;\">\n",
       "      <th></th>\n",
       "      <th>id</th>\n",
       "      <th>Personality</th>\n",
       "    </tr>\n",
       "  </thead>\n",
       "  <tbody>\n",
       "    <tr>\n",
       "      <th>0</th>\n",
       "      <td>18524</td>\n",
       "      <td>Extrovert</td>\n",
       "    </tr>\n",
       "    <tr>\n",
       "      <th>1</th>\n",
       "      <td>18525</td>\n",
       "      <td>Introvert</td>\n",
       "    </tr>\n",
       "    <tr>\n",
       "      <th>2</th>\n",
       "      <td>18526</td>\n",
       "      <td>Extrovert</td>\n",
       "    </tr>\n",
       "    <tr>\n",
       "      <th>3</th>\n",
       "      <td>18527</td>\n",
       "      <td>Extrovert</td>\n",
       "    </tr>\n",
       "    <tr>\n",
       "      <th>4</th>\n",
       "      <td>18528</td>\n",
       "      <td>Introvert</td>\n",
       "    </tr>\n",
       "    <tr>\n",
       "      <th>5</th>\n",
       "      <td>18529</td>\n",
       "      <td>Extrovert</td>\n",
       "    </tr>\n",
       "    <tr>\n",
       "      <th>6</th>\n",
       "      <td>18530</td>\n",
       "      <td>Extrovert</td>\n",
       "    </tr>\n",
       "    <tr>\n",
       "      <th>7</th>\n",
       "      <td>18531</td>\n",
       "      <td>Introvert</td>\n",
       "    </tr>\n",
       "    <tr>\n",
       "      <th>8</th>\n",
       "      <td>18532</td>\n",
       "      <td>Extrovert</td>\n",
       "    </tr>\n",
       "    <tr>\n",
       "      <th>9</th>\n",
       "      <td>18533</td>\n",
       "      <td>Introvert</td>\n",
       "    </tr>\n",
       "  </tbody>\n",
       "</table>\n",
       "</div>"
      ],
      "text/plain": [
       "      id Personality\n",
       "0  18524   Extrovert\n",
       "1  18525   Introvert\n",
       "2  18526   Extrovert\n",
       "3  18527   Extrovert\n",
       "4  18528   Introvert\n",
       "5  18529   Extrovert\n",
       "6  18530   Extrovert\n",
       "7  18531   Introvert\n",
       "8  18532   Extrovert\n",
       "9  18533   Introvert"
      ]
     },
     "metadata": {},
     "output_type": "display_data"
    }
   ],
   "source": [
    "\n",
    "# Create submission\n",
    "submission = pd.DataFrame({\n",
    "    'id': test['id'],\n",
    "    'Personality': test_preds\n",
    "})\n",
    "\n",
    "# Show sample with style\n",
    "print(\"\\n Sample Submission:\")\n",
    "display(submission.head(10))\n",
    "\n",
    "# Save\n",
    "submission.to_csv('submission4444.csv', index=False)"
   ]
  },
  {
   "cell_type": "code",
   "execution_count": null,
   "id": "36faee07",
   "metadata": {
    "papermill": {
     "duration": 0.010035,
     "end_time": "2025-07-06T13:08:15.671502",
     "exception": false,
     "start_time": "2025-07-06T13:08:15.661467",
     "status": "completed"
    },
    "tags": []
   },
   "outputs": [],
   "source": []
  }
 ],
 "metadata": {
  "kaggle": {
   "accelerator": "none",
   "dataSources": [
    {
     "databundleVersionId": 12738969,
     "sourceId": 91718,
     "sourceType": "competition"
    }
   ],
   "dockerImageVersionId": 31040,
   "isGpuEnabled": false,
   "isInternetEnabled": true,
   "language": "python",
   "sourceType": "notebook"
  },
  "kernelspec": {
   "display_name": "Python 3",
   "language": "python",
   "name": "python3"
  },
  "language_info": {
   "codemirror_mode": {
    "name": "ipython",
    "version": 3
   },
   "file_extension": ".py",
   "mimetype": "text/x-python",
   "name": "python",
   "nbconvert_exporter": "python",
   "pygments_lexer": "ipython3",
   "version": "3.11.11"
  },
  "papermill": {
   "default_parameters": {},
   "duration": 23.163655,
   "end_time": "2025-07-06T13:08:16.403376",
   "environment_variables": {},
   "exception": null,
   "input_path": "__notebook__.ipynb",
   "output_path": "__notebook__.ipynb",
   "parameters": {},
   "start_time": "2025-07-06T13:07:53.239721",
   "version": "2.6.0"
  }
 },
 "nbformat": 4,
 "nbformat_minor": 5
}
